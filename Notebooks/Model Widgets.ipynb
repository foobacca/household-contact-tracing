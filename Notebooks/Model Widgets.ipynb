{
 "cells": [
  {
   "cell_type": "code",
   "execution_count": 1,
   "metadata": {},
   "outputs": [],
   "source": [
    "import matplotlib.pyplot as plt\n",
    "import seaborn as sns\n",
    "import household_contact_tracing as model\n",
    "import warnings\n",
    "import ipywidgets as widgets\n",
    "from progressbar import ProgressBar\n",
    "pbar = ProgressBar(max_value = 1000)\n",
    "warnings.filterwarnings('ignore')\n",
    "sns.set()\n",
    "%matplotlib inline"
   ]
  },
  {
   "cell_type": "markdown",
   "metadata": {},
   "source": [
    "Made this in case anyone would like to see how the parameters change the outputs of the model.\n",
    "\n",
    "(Also because I wanted to learn how widgets work)\n",
    "\n",
    "A fun one is seeing how increasing the reporting rate can dramatically change the trajectory."
   ]
  },
  {
   "cell_type": "code",
   "execution_count": 2,
   "metadata": {},
   "outputs": [],
   "source": [
    "def run_simulation(number_of_repeats = 10,\n",
    "                  days_to_simulate = 60,\n",
    "                  contact_tracing_success_prob = 2/3,\n",
    "                  prob_of_successful_contact_trace_today = 1/2,\n",
    "                  overdispersion = 0.36,\n",
    "                  infection_reporting_prob = 0.2,\n",
    "                  reporting_delay_par = 1/4.8,\n",
    "                  reduce_contacts_by = 0.5,\n",
    "                  prob_has_trace_app = 0.12):\n",
    "    \n",
    "    print(\"Setting up model\")\n",
    "    \n",
    "    simulation = model.household_sim_contact_tracing(proportion_of_within_house_contacts = 0.3372348, # I wouldn't change\n",
    "                                                    haz_rate_scale = 0.79, # Calibrates R0 to, I wouldn't change\n",
    "                                                    contact_tracing_success_prob = contact_tracing_success_prob,\n",
    "                                                    prob_of_successful_contact_trace_today = prob_of_successful_contact_trace_today,\n",
    "                                                    overdispersion = overdispersion,\n",
    "                                                    infection_reporting_prob = infection_reporting_prob,\n",
    "                                                    reporting_delay_par = reporting_delay_par,\n",
    "                                                    contact_trace = True,              # switches contact tracing on, things get slow switching it off\n",
    "                                                    reduce_contacts_by = reduce_contacts_by,\n",
    "                                                    prob_has_trace_app = prob_has_trace_app) # 0.1 means nodes make 10% of their normal contacts\n",
    "    \n",
    "    times_went_extinct = 0\n",
    "    \n",
    "    for repeat in range(number_of_repeats):\n",
    "        \n",
    "        print(f\"repeat: {repeat}/{number_of_repeats}\", end = \"\\r\")\n",
    "        \n",
    "        simulation.run_simulation(days_to_simulate)\n",
    "        \n",
    "        plt.plot(simulation.total_cases, alpha = 0.4)\n",
    "        \n",
    "        if simulation.died_out == True:\n",
    "            times_went_extinct += 1\n",
    "            \n",
    "    plt.title(\"Simulated Trajectories\")\n",
    "    \n",
    "    print(f\"Percentage Extinct after {days_to_simulate} days: {times_went_extinct*100/number_of_repeats}%\")\n",
    "    print(\"Remember, this is for a single case.\")"
   ]
  },
  {
   "cell_type": "markdown",
   "metadata": {},
   "source": [
    "### If an interation takes a long time, your choice of paramters may have led to very quick growth and may be hard for the computer to handle"
   ]
  },
  {
   "cell_type": "markdown",
   "metadata": {},
   "source": [
    "I would stay away from lowering the \"reduce contacts by variable\"."
   ]
  },
  {
   "cell_type": "code",
   "execution_count": 3,
   "metadata": {},
   "outputs": [
    {
     "data": {
      "application/vnd.jupyter.widget-view+json": {
       "model_id": "e73bd86a48dd4ee982f1154cb17c406a",
       "version_major": 2,
       "version_minor": 0
      },
      "text/plain": [
       "interactive(children=(IntSlider(value=10, description='number_of_repeats', max=1000), IntSlider(value=60, desc…"
      ]
     },
     "metadata": {},
     "output_type": "display_data"
    }
   ],
   "source": [
    "widgets.interactive(run_simulation,\n",
    "                 {\"manual\": True},\n",
    "                 number_of_repeats = (0,1000,1),\n",
    "                 days_to_simulate = (0,90,1),\n",
    "                 contact_tracing_success_prob = (0,1,0.01),\n",
    "                 prob_of_successful_contact_trace_today = (0,1,0.01),\n",
    "                 overdispersion = (0,1,0.01),\n",
    "                 infection_reporting_prob = (0,1,0.01),\n",
    "                 reporting_delay_par = (0,1,0.01),\n",
    "                 reduce_contacts_by = (0,1,0.01),\n",
    "                 prob_has_trace_app = (0,1,0.01))"
   ]
  }
 ],
 "metadata": {
  "kernelspec": {
   "display_name": "Python 3",
   "language": "python",
   "name": "python3"
  },
  "language_info": {
   "codemirror_mode": {
    "name": "ipython",
    "version": 3
   },
   "file_extension": ".py",
   "mimetype": "text/x-python",
   "name": "python",
   "nbconvert_exporter": "python",
   "pygments_lexer": "ipython3",
   "version": "3.7.4"
  }
 },
 "nbformat": 4,
 "nbformat_minor": 4
}
