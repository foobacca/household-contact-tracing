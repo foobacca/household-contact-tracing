{
 "cells": [
  {
   "cell_type": "markdown",
   "metadata": {},
   "source": [
    "# Debug Notebook"
   ]
  },
  {
   "cell_type": "code",
   "execution_count": 1,
   "metadata": {},
   "outputs": [],
   "source": [
    "import sys\n",
    "sys.path.append(\"..\")\n",
    "import household_contact_tracing.BranchingProcessSimulation as hct\n",
    "import numpy as np\n",
    "import numpy.random as npr"
   ]
  },
  {
   "cell_type": "code",
   "execution_count": 13,
   "metadata": {},
   "outputs": [
    {
     "data": {
      "text/plain": [
       "<module 'household_contact_tracing.household_contact_tracing' from '..\\\\household_contact_tracing\\\\household_contact_tracing.py'>"
      ]
     },
     "execution_count": 13,
     "metadata": {},
     "output_type": "execute_result"
    }
   ],
   "source": [
    "hct"
   ]
  },
  {
   "cell_type": "markdown",
   "metadata": {},
   "source": [
    "## A chunk of code from one of our simulation scripts goes here"
   ]
  },
  {
   "cell_type": "code",
   "execution_count": 14,
   "metadata": {},
   "outputs": [],
   "source": [
    "repeats = 100\n",
    "days_to_simulate = 25\n",
    "starting_infections = 5"
   ]
  },
  {
   "cell_type": "code",
   "execution_count": 9,
   "metadata": {},
   "outputs": [],
   "source": [
    "haz_rate_scale = 0.812030\n",
    "\n",
    "infection_reporting_prob = 0.8\n",
    "\n",
    "contact_tracing_success_prob = npr.uniform(0.7, 0.95)\n",
    "\n",
    "contact_trace_delay_par = npr.uniform(1.5, 2.5)\n",
    "\n",
    "reduce_contacts_by = \"scenario1_phase1\"\n",
    "\n",
    "do_2_step = npr.choice([True, False])\n",
    "\n",
    "prob_has_trace_app = npr.uniform(0, 0.5)\n",
    "\n",
    "simulation = hct.household_sim_contact_tracing(haz_rate_scale=haz_rate_scale,\n",
    "                                                 contact_tracing_success_prob=contact_tracing_success_prob,\n",
    "                                                 contact_trace_delay_par=contact_trace_delay_par,\n",
    "                                                 overdispersion=0.36,\n",
    "                                                 infection_reporting_prob=infection_reporting_prob,\n",
    "                                                 contact_trace=True,\n",
    "                                                 reduce_contacts_by=(0.8286, 0.8425, 0.8739, 0.8996, 0.8998, 0.9037),\n",
    "                                                 do_2_step=do_2_step,\n",
    "                                                 test_before_propagate_tracing=False,\n",
    "                                                 prob_has_trace_app=prob_has_trace_app,\n",
    "                                                 starting_infections=starting_infections)\n",
    "\n",
    "simulation.run_simulation(days_to_simulate)\n",
    "\n",
    "parameters = [\n",
    "    haz_rate_scale,\n",
    "    infection_reporting_prob,\n",
    "    contact_tracing_success_prob,\n",
    "    contact_trace_delay_par,\n",
    "    reduce_contacts_by,\n",
    "    do_2_step,\n",
    "    prob_has_trace_app\n",
    "]"
   ]
  },
  {
   "cell_type": "markdown",
   "metadata": {},
   "source": [
    "Run the simulation for 20 days"
   ]
  },
  {
   "cell_type": "code",
   "execution_count": 10,
   "metadata": {},
   "outputs": [],
   "source": [
    "simulation.run_simulation(20)\n",
    "#model.draw_network()"
   ]
  },
  {
   "cell_type": "markdown",
   "metadata": {},
   "source": [
    "Use Ctrl+Enter on the following code box to iterate the epidemic one step at a time"
   ]
  },
  {
   "cell_type": "code",
   "execution_count": 11,
   "metadata": {},
   "outputs": [
    {
     "data": {
      "image/png": "[encoded data removed]",
      "text/plain": [
       "<Figure size 576x576 with 1 Axes>"
      ]
     },
     "metadata": {},
     "output_type": "display_data"
    }
   ],
   "source": [
    "simulation.simulate_one_day()\n",
    "simulation.draw_network()"
   ]
  },
  {
   "cell_type": "code",
   "execution_count": 122,
   "metadata": {},
   "outputs": [
    {
     "data": {
      "text/plain": [
       "True"
      ]
     },
     "execution_count": 122,
     "metadata": {},
     "output_type": "execute_result"
    }
   ],
   "source": [
    "simulation.contact_rate_reduction_by_household"
   ]
  },
  {
   "cell_type": "code",
   "execution_count": 123,
   "metadata": {},
   "outputs": [
    {
     "data": {
      "text/plain": [
       "0.9037"
      ]
     },
     "execution_count": 123,
     "metadata": {},
     "output_type": "execute_result"
    }
   ],
   "source": [
    "simulation.get_contact_rate_reduction(0)"
   ]
  },
  {
   "cell_type": "code",
   "execution_count": 124,
   "metadata": {},
   "outputs": [
    {
     "data": {
      "text/plain": [
       "{'size': 3,\n",
       " 'time': 0,\n",
       " 'susceptibles': 1,\n",
       " 'isolated': True,\n",
       " 'isolated_time': 20,\n",
       " 'propensity_to_leave_isolation': False,\n",
       " 'contact_traced': False,\n",
       " 'time_until_contact_traced': inf,\n",
       " 'contact_traced_households': [],\n",
       " 'being_contact_traced_from': None,\n",
       " 'propagated_contact_tracing': True,\n",
       " 'time_propagated_tracing': 5,\n",
       " 'contact_tracing_index': 0,\n",
       " 'generation': 1,\n",
       " 'infected_by': None,\n",
       " 'spread_to': [],\n",
       " 'nodes': [1, 7],\n",
       " 'infected_by_node': None,\n",
       " 'within_house_edges': [(1, 7)],\n",
       " 'had_contacts_traced': False}"
      ]
     },
     "execution_count": 124,
     "metadata": {},
     "output_type": "execute_result"
    }
   ],
   "source": [
    "simulation.house_dict[1]"
   ]
  },
  {
   "cell_type": "code",
   "execution_count": 120,
   "metadata": {},
   "outputs": [
    {
     "data": {
      "text/plain": [
       "{'time_infected': 0,\n",
       " 'generation': 0,\n",
       " 'household': 1,\n",
       " 'contact_traced': True,\n",
       " 'isolated': False,\n",
       " 'symptom_onset': 3,\n",
       " 'outside_house_contacts_made': 0,\n",
       " 'had_contacts_traced': False,\n",
       " 'spread_to': [],\n",
       " 'serial_interval': None,\n",
       " 'recovered': False,\n",
       " 'recovery_time': 21,\n",
       " 'will_report_infection': True,\n",
       " 'reporting_time': 5,\n",
       " 'has_trace_app': False,\n",
       " 'testing_delay': 5}"
      ]
     },
     "execution_count": 120,
     "metadata": {},
     "output_type": "execute_result"
    }
   ],
   "source": [
    "simulation.G.nodes[1]"
   ]
  },
  {
   "cell_type": "code",
   "execution_count": null,
   "metadata": {},
   "outputs": [],
   "source": []
  }
 ],
 "metadata": {
  "kernelspec": {
   "display_name": "Python 3",
   "language": "python",
   "name": "python3"
  },
  "language_info": {
   "codemirror_mode": {
    "name": "ipython",
    "version": 3
   },
   "file_extension": ".py",
   "mimetype": "text/x-python",
   "name": "python",
   "nbconvert_exporter": "python",
   "pygments_lexer": "ipython3",
   "version": "3.7.6"
  }
 },
 "nbformat": 4,
 "nbformat_minor": 4
}
