{
 "cells": [
  {
   "cell_type": "markdown",
   "metadata": {},
   "source": [
    "# Model Calibration"
   ]
  },
  {
   "cell_type": "code",
   "execution_count": 5,
   "metadata": {},
   "outputs": [],
   "source": [
    "import sys\n",
    "sys.path.append(\"../..\")\n",
    "import household_contact_tracing.BranchingProcessSimulation as hct\n",
    "import matplotlib.pyplot as plt\n",
    "import numpy as np\n",
    "import scipy.stats as ss\n",
    "import seaborn as sns\n",
    "import pandas as pd\n",
    "import pickle\n",
    "from patsy import dmatrices\n",
    "import statsmodels as sm\n",
    "import statsmodels.api as sma\n",
    "sns.set()"
   ]
  },
  {
   "cell_type": "code",
   "execution_count": 6,
   "metadata": {},
   "outputs": [],
   "source": [
    "def solve_for_x(y, res):\n",
    "    \"\"\"\n",
    "    Used when getting parameters from a linear equation\n",
    "    \"\"\"\n",
    "    c = res.params[0]\n",
    "    m = res.params[1]\n",
    "    \n",
    "    return (y - c) / m"
   ]
  },
  {
   "cell_type": "markdown",
   "metadata": {},
   "source": [
    "The model calibration class inherits from the base model class, so you are using the exact same code/distributions. The calibration estimates the $R_0$ of the model using the Lorenzo's household R_0 paper. The local and global infections are simulated, hence there is uncertainty in the output."
   ]
  },
  {
   "cell_type": "markdown",
   "metadata": {},
   "source": [
    "There are a large number of parameters that can be calibrated - we primarily are calibrating to the growth rate, however we have the ability to calibrate to a household secondary attack rate and corresponding growth rate.\n"
   ]
  },
  {
   "cell_type": "markdown",
   "metadata": {},
   "source": [
    "Importantly this is the notebook that creates the calibration dictionary."
   ]
  },
  {
   "cell_type": "markdown",
   "metadata": {},
   "source": [
    "## Distribution of secondary infections"
   ]
  },
  {
   "cell_type": "markdown",
   "metadata": {},
   "source": [
    "Simulates the distribution of secondary infections. This is done by Monte Carlo simulating the epidemic for X initial starting households, with X being equal to the starting_infections parameter."
   ]
  },
  {
   "cell_type": "code",
   "execution_count": 7,
   "metadata": {},
   "outputs": [
    {
     "ename": "KeyboardInterrupt",
     "evalue": "",
     "output_type": "error",
     "traceback": [
      "\u001b[1;31m---------------------------------------------------------------------------\u001b[0m",
      "\u001b[1;31mKeyboardInterrupt\u001b[0m                         Traceback (most recent call last)",
      "\u001b[1;32m<ipython-input-7-70d5f6662a69>\u001b[0m in \u001b[0;36m<module>\u001b[1;34m\u001b[0m\n\u001b[0;32m      9\u001b[0m                                          starting_infections = 1000)\n\u001b[0;32m     10\u001b[0m \u001b[1;33m\u001b[0m\u001b[0m\n\u001b[1;32m---> 11\u001b[1;33m \u001b[0mout\u001b[0m \u001b[1;33m=\u001b[0m \u001b[0mmodel_calibrator\u001b[0m\u001b[1;33m.\u001b[0m\u001b[0mgenerate_secondary_infection_distribution\u001b[0m\u001b[1;33m(\u001b[0m\u001b[1;33m)\u001b[0m\u001b[1;33m\u001b[0m\u001b[1;33m\u001b[0m\u001b[0m\n\u001b[0m",
      "\u001b[1;32m~\\OneDrive - The Alan Turing Institute\\Documents\\GitHub\\household-contact-tracing\\household_contact_tracing\\BranchingProcessSimulation.py\u001b[0m in \u001b[0;36mgenerate_secondary_infection_distribution\u001b[1;34m(self)\u001b[0m\n\u001b[0;32m   1511\u001b[0m \u001b[1;33m\u001b[0m\u001b[0m\n\u001b[0;32m   1512\u001b[0m             \u001b[1;31m# Increment the infection process\u001b[0m\u001b[1;33m\u001b[0m\u001b[1;33m\u001b[0m\u001b[1;33m\u001b[0m\u001b[0m\n\u001b[1;32m-> 1513\u001b[1;33m             \u001b[0mself\u001b[0m\u001b[1;33m.\u001b[0m\u001b[0mincrement_infection\u001b[0m\u001b[1;33m(\u001b[0m\u001b[1;33m)\u001b[0m\u001b[1;33m\u001b[0m\u001b[1;33m\u001b[0m\u001b[0m\n\u001b[0m\u001b[0;32m   1514\u001b[0m \u001b[1;33m\u001b[0m\u001b[0m\n\u001b[0;32m   1515\u001b[0m             \u001b[1;31m# recover nodes that need it\u001b[0m\u001b[1;33m\u001b[0m\u001b[1;33m\u001b[0m\u001b[1;33m\u001b[0m\u001b[0m\n",
      "\u001b[1;32m~\\OneDrive - The Alan Turing Institute\\Documents\\GitHub\\household-contact-tracing\\household_contact_tracing\\BranchingProcessSimulation.py\u001b[0m in \u001b[0;36mincrement_infection\u001b[1;34m(self)\u001b[0m\n\u001b[0;32m    610\u001b[0m \u001b[1;33m\u001b[0m\u001b[0m\n\u001b[0;32m    611\u001b[0m             \u001b[1;31m# How many outside household contacts cause new infections\u001b[0m\u001b[1;33m\u001b[0m\u001b[1;33m\u001b[0m\u001b[1;33m\u001b[0m\u001b[0m\n\u001b[1;32m--> 612\u001b[1;33m             \u001b[0moutside_household_new_infections\u001b[0m \u001b[1;33m=\u001b[0m \u001b[0mnpr\u001b[0m\u001b[1;33m.\u001b[0m\u001b[0mbinomial\u001b[0m\u001b[1;33m(\u001b[0m\u001b[0moutside_household_contacts\u001b[0m\u001b[1;33m,\u001b[0m \u001b[0mcurrent_prob_infection\u001b[0m\u001b[1;33m(\u001b[0m\u001b[0mdays_since_infected\u001b[0m\u001b[1;33m,\u001b[0m \u001b[0mself\u001b[0m\u001b[1;33m.\u001b[0m\u001b[0mhaz_rate_scale\u001b[0m\u001b[1;33m)\u001b[0m\u001b[1;33m)\u001b[0m\u001b[1;33m\u001b[0m\u001b[1;33m\u001b[0m\u001b[0m\n\u001b[0m\u001b[0;32m    613\u001b[0m \u001b[1;33m\u001b[0m\u001b[0m\n\u001b[0;32m    614\u001b[0m             \u001b[1;32mfor\u001b[0m \u001b[0m_\u001b[0m \u001b[1;32min\u001b[0m \u001b[0mrange\u001b[0m\u001b[1;33m(\u001b[0m\u001b[0moutside_household_new_infections\u001b[0m\u001b[1;33m)\u001b[0m\u001b[1;33m:\u001b[0m\u001b[1;33m\u001b[0m\u001b[1;33m\u001b[0m\u001b[0m\n",
      "\u001b[1;32m~\\OneDrive - The Alan Turing Institute\\Documents\\GitHub\\household-contact-tracing\\household_contact_tracing\\BranchingProcessSimulation.py\u001b[0m in \u001b[0;36mcurrent_prob_infection\u001b[1;34m(t, survive_forever)\u001b[0m\n\u001b[0;32m     76\u001b[0m         \u001b[0msurvive_forever\u001b[0m \u001b[1;33m{\u001b[0m\u001b[0mfloat\u001b[0m\u001b[1;33m}\u001b[0m \u001b[1;33m-\u001b[0m\u001b[1;33m-\u001b[0m \u001b[0mrescales\u001b[0m \u001b[0mthe\u001b[0m \u001b[0mhazard\u001b[0m \u001b[0mrate\u001b[0m \u001b[0mso\u001b[0m \u001b[0mthat\u001b[0m \u001b[0mit\u001b[0m \u001b[1;32mis\u001b[0m \u001b[0mpossible\u001b[0m \u001b[0mto\u001b[0m \u001b[1;32mnot\u001b[0m \u001b[0mbe\u001b[0m \u001b[0minfected\u001b[0m\u001b[1;33m\u001b[0m\u001b[1;33m\u001b[0m\u001b[0m\n\u001b[0;32m     77\u001b[0m     \"\"\"\n\u001b[1;32m---> 78\u001b[1;33m     \u001b[1;32mreturn\u001b[0m \u001b[0msi\u001b[0m\u001b[1;33m.\u001b[0m\u001b[0mquad\u001b[0m\u001b[1;33m(\u001b[0m\u001b[1;32mlambda\u001b[0m \u001b[0mt\u001b[0m\u001b[1;33m:\u001b[0m \u001b[0munconditional_hazard_rate\u001b[0m\u001b[1;33m(\u001b[0m\u001b[0mt\u001b[0m\u001b[1;33m,\u001b[0m \u001b[0msurvive_forever\u001b[0m\u001b[1;33m)\u001b[0m\u001b[1;33m,\u001b[0m \u001b[0mt\u001b[0m\u001b[1;33m,\u001b[0m \u001b[0mt\u001b[0m\u001b[1;33m+\u001b[0m\u001b[1;36m1\u001b[0m\u001b[1;33m)\u001b[0m\u001b[1;33m[\u001b[0m\u001b[1;36m0\u001b[0m\u001b[1;33m]\u001b[0m\u001b[1;33m\u001b[0m\u001b[1;33m\u001b[0m\u001b[0m\n\u001b[0m\u001b[0;32m     79\u001b[0m \u001b[1;33m\u001b[0m\u001b[0m\n\u001b[0;32m     80\u001b[0m \u001b[1;33m\u001b[0m\u001b[0m\n",
      "\u001b[1;32m~\\Anaconda3\\lib\\site-packages\\scipy\\integrate\\quadpack.py\u001b[0m in \u001b[0;36mquad\u001b[1;34m(func, a, b, args, full_output, epsabs, epsrel, limit, points, weight, wvar, wopts, maxp1, limlst)\u001b[0m\n\u001b[0;32m    340\u001b[0m     \u001b[1;32mif\u001b[0m \u001b[0mweight\u001b[0m \u001b[1;32mis\u001b[0m \u001b[1;32mNone\u001b[0m\u001b[1;33m:\u001b[0m\u001b[1;33m\u001b[0m\u001b[1;33m\u001b[0m\u001b[0m\n\u001b[0;32m    341\u001b[0m         retval = _quad(func, a, b, args, full_output, epsabs, epsrel, limit,\n\u001b[1;32m--> 342\u001b[1;33m                        points)\n\u001b[0m\u001b[0;32m    343\u001b[0m     \u001b[1;32melse\u001b[0m\u001b[1;33m:\u001b[0m\u001b[1;33m\u001b[0m\u001b[1;33m\u001b[0m\u001b[0m\n\u001b[0;32m    344\u001b[0m         \u001b[1;32mif\u001b[0m \u001b[0mpoints\u001b[0m \u001b[1;32mis\u001b[0m \u001b[1;32mnot\u001b[0m \u001b[1;32mNone\u001b[0m\u001b[1;33m:\u001b[0m\u001b[1;33m\u001b[0m\u001b[1;33m\u001b[0m\u001b[0m\n",
      "\u001b[1;32m~\\Anaconda3\\lib\\site-packages\\scipy\\integrate\\quadpack.py\u001b[0m in \u001b[0;36m_quad\u001b[1;34m(func, a, b, args, full_output, epsabs, epsrel, limit, points)\u001b[0m\n\u001b[0;32m    451\u001b[0m     \u001b[1;32mif\u001b[0m \u001b[0mpoints\u001b[0m \u001b[1;32mis\u001b[0m \u001b[1;32mNone\u001b[0m\u001b[1;33m:\u001b[0m\u001b[1;33m\u001b[0m\u001b[1;33m\u001b[0m\u001b[0m\n\u001b[0;32m    452\u001b[0m         \u001b[1;32mif\u001b[0m \u001b[0minfbounds\u001b[0m \u001b[1;33m==\u001b[0m \u001b[1;36m0\u001b[0m\u001b[1;33m:\u001b[0m\u001b[1;33m\u001b[0m\u001b[1;33m\u001b[0m\u001b[0m\n\u001b[1;32m--> 453\u001b[1;33m             \u001b[1;32mreturn\u001b[0m \u001b[0m_quadpack\u001b[0m\u001b[1;33m.\u001b[0m\u001b[0m_qagse\u001b[0m\u001b[1;33m(\u001b[0m\u001b[0mfunc\u001b[0m\u001b[1;33m,\u001b[0m\u001b[0ma\u001b[0m\u001b[1;33m,\u001b[0m\u001b[0mb\u001b[0m\u001b[1;33m,\u001b[0m\u001b[0margs\u001b[0m\u001b[1;33m,\u001b[0m\u001b[0mfull_output\u001b[0m\u001b[1;33m,\u001b[0m\u001b[0mepsabs\u001b[0m\u001b[1;33m,\u001b[0m\u001b[0mepsrel\u001b[0m\u001b[1;33m,\u001b[0m\u001b[0mlimit\u001b[0m\u001b[1;33m)\u001b[0m\u001b[1;33m\u001b[0m\u001b[1;33m\u001b[0m\u001b[0m\n\u001b[0m\u001b[0;32m    454\u001b[0m         \u001b[1;32melse\u001b[0m\u001b[1;33m:\u001b[0m\u001b[1;33m\u001b[0m\u001b[1;33m\u001b[0m\u001b[0m\n\u001b[0;32m    455\u001b[0m             \u001b[1;32mreturn\u001b[0m \u001b[0m_quadpack\u001b[0m\u001b[1;33m.\u001b[0m\u001b[0m_qagie\u001b[0m\u001b[1;33m(\u001b[0m\u001b[0mfunc\u001b[0m\u001b[1;33m,\u001b[0m\u001b[0mbound\u001b[0m\u001b[1;33m,\u001b[0m\u001b[0minfbounds\u001b[0m\u001b[1;33m,\u001b[0m\u001b[0margs\u001b[0m\u001b[1;33m,\u001b[0m\u001b[0mfull_output\u001b[0m\u001b[1;33m,\u001b[0m\u001b[0mepsabs\u001b[0m\u001b[1;33m,\u001b[0m\u001b[0mepsrel\u001b[0m\u001b[1;33m,\u001b[0m\u001b[0mlimit\u001b[0m\u001b[1;33m)\u001b[0m\u001b[1;33m\u001b[0m\u001b[1;33m\u001b[0m\u001b[0m\n",
      "\u001b[1;32m~\\OneDrive - The Alan Turing Institute\\Documents\\GitHub\\household-contact-tracing\\household_contact_tracing\\BranchingProcessSimulation.py\u001b[0m in \u001b[0;36m<lambda>\u001b[1;34m(t)\u001b[0m\n\u001b[0;32m     76\u001b[0m         \u001b[0msurvive_forever\u001b[0m \u001b[1;33m{\u001b[0m\u001b[0mfloat\u001b[0m\u001b[1;33m}\u001b[0m \u001b[1;33m-\u001b[0m\u001b[1;33m-\u001b[0m \u001b[0mrescales\u001b[0m \u001b[0mthe\u001b[0m \u001b[0mhazard\u001b[0m \u001b[0mrate\u001b[0m \u001b[0mso\u001b[0m \u001b[0mthat\u001b[0m \u001b[0mit\u001b[0m \u001b[1;32mis\u001b[0m \u001b[0mpossible\u001b[0m \u001b[0mto\u001b[0m \u001b[1;32mnot\u001b[0m \u001b[0mbe\u001b[0m \u001b[0minfected\u001b[0m\u001b[1;33m\u001b[0m\u001b[1;33m\u001b[0m\u001b[0m\n\u001b[0;32m     77\u001b[0m     \"\"\"\n\u001b[1;32m---> 78\u001b[1;33m     \u001b[1;32mreturn\u001b[0m \u001b[0msi\u001b[0m\u001b[1;33m.\u001b[0m\u001b[0mquad\u001b[0m\u001b[1;33m(\u001b[0m\u001b[1;32mlambda\u001b[0m \u001b[0mt\u001b[0m\u001b[1;33m:\u001b[0m \u001b[0munconditional_hazard_rate\u001b[0m\u001b[1;33m(\u001b[0m\u001b[0mt\u001b[0m\u001b[1;33m,\u001b[0m \u001b[0msurvive_forever\u001b[0m\u001b[1;33m)\u001b[0m\u001b[1;33m,\u001b[0m \u001b[0mt\u001b[0m\u001b[1;33m,\u001b[0m \u001b[0mt\u001b[0m\u001b[1;33m+\u001b[0m\u001b[1;36m1\u001b[0m\u001b[1;33m)\u001b[0m\u001b[1;33m[\u001b[0m\u001b[1;36m0\u001b[0m\u001b[1;33m]\u001b[0m\u001b[1;33m\u001b[0m\u001b[1;33m\u001b[0m\u001b[0m\n\u001b[0m\u001b[0;32m     79\u001b[0m \u001b[1;33m\u001b[0m\u001b[0m\n\u001b[0;32m     80\u001b[0m \u001b[1;33m\u001b[0m\u001b[0m\n",
      "\u001b[1;32m~\\OneDrive - The Alan Turing Institute\\Documents\\GitHub\\household-contact-tracing\\household_contact_tracing\\BranchingProcessSimulation.py\u001b[0m in \u001b[0;36munconditional_hazard_rate\u001b[1;34m(t, survive_forever)\u001b[0m\n\u001b[0;32m     62\u001b[0m     \u001b[0mCurrently\u001b[0m \u001b[0mthis\u001b[0m \u001b[1;32mis\u001b[0m \u001b[0musing\u001b[0m \u001b[0ma\u001b[0m \u001b[0mweibull\u001b[0m \u001b[0mdistribution\u001b[0m\u001b[1;33m,\u001b[0m \u001b[1;32mas\u001b[0m \u001b[0man\u001b[0m \u001b[0mexample\u001b[0m\u001b[1;33m.\u001b[0m\u001b[1;33m\u001b[0m\u001b[1;33m\u001b[0m\u001b[0m\n\u001b[0;32m     63\u001b[0m     \"\"\"\n\u001b[1;32m---> 64\u001b[1;33m     \u001b[0munconditional_pdf\u001b[0m \u001b[1;33m=\u001b[0m \u001b[1;33m(\u001b[0m\u001b[1;36m1\u001b[0m \u001b[1;33m-\u001b[0m \u001b[0msurvive_forever\u001b[0m\u001b[1;33m)\u001b[0m \u001b[1;33m*\u001b[0m \u001b[0mweibull_pdf\u001b[0m\u001b[1;33m(\u001b[0m\u001b[0mt\u001b[0m\u001b[1;33m)\u001b[0m\u001b[1;33m\u001b[0m\u001b[1;33m\u001b[0m\u001b[0m\n\u001b[0m\u001b[0;32m     65\u001b[0m     \u001b[0munconditional_survival\u001b[0m \u001b[1;33m=\u001b[0m \u001b[1;33m(\u001b[0m\u001b[1;36m1\u001b[0m \u001b[1;33m-\u001b[0m \u001b[0msurvive_forever\u001b[0m\u001b[1;33m)\u001b[0m \u001b[1;33m*\u001b[0m \u001b[0mweibull_survival\u001b[0m\u001b[1;33m(\u001b[0m\u001b[0mt\u001b[0m\u001b[1;33m)\u001b[0m \u001b[1;33m+\u001b[0m \u001b[0msurvive_forever\u001b[0m\u001b[1;33m\u001b[0m\u001b[1;33m\u001b[0m\u001b[0m\n\u001b[0;32m     66\u001b[0m     \u001b[1;32mreturn\u001b[0m \u001b[0munconditional_pdf\u001b[0m \u001b[1;33m/\u001b[0m \u001b[0munconditional_survival\u001b[0m\u001b[1;33m\u001b[0m\u001b[1;33m\u001b[0m\u001b[0m\n",
      "\u001b[1;32m~\\OneDrive - The Alan Turing Institute\\Documents\\GitHub\\household-contact-tracing\\household_contact_tracing\\BranchingProcessSimulation.py\u001b[0m in \u001b[0;36mweibull_pdf\u001b[1;34m(t)\u001b[0m\n\u001b[0;32m     30\u001b[0m \u001b[1;33m\u001b[0m\u001b[0m\n\u001b[0;32m     31\u001b[0m \u001b[1;32mdef\u001b[0m \u001b[0mweibull_pdf\u001b[0m\u001b[1;33m(\u001b[0m\u001b[0mt\u001b[0m\u001b[1;33m)\u001b[0m\u001b[1;33m:\u001b[0m\u001b[1;33m\u001b[0m\u001b[1;33m\u001b[0m\u001b[0m\n\u001b[1;32m---> 32\u001b[1;33m     \u001b[0mout\u001b[0m \u001b[1;33m=\u001b[0m \u001b[1;33m(\u001b[0m\u001b[0mgen_shape\u001b[0m \u001b[1;33m/\u001b[0m \u001b[0mgen_scale\u001b[0m\u001b[1;33m)\u001b[0m \u001b[1;33m*\u001b[0m \u001b[1;33m(\u001b[0m\u001b[0mt\u001b[0m \u001b[1;33m/\u001b[0m \u001b[0mgen_scale\u001b[0m\u001b[1;33m)\u001b[0m\u001b[1;33m**\u001b[0m\u001b[1;33m(\u001b[0m\u001b[0mgen_shape\u001b[0m \u001b[1;33m-\u001b[0m \u001b[1;36m1\u001b[0m\u001b[1;33m)\u001b[0m \u001b[1;33m*\u001b[0m \u001b[0mmath\u001b[0m\u001b[1;33m.\u001b[0m\u001b[0mexp\u001b[0m\u001b[1;33m(\u001b[0m\u001b[1;33m-\u001b[0m\u001b[1;33m(\u001b[0m\u001b[0mt\u001b[0m \u001b[1;33m/\u001b[0m \u001b[0mgen_scale\u001b[0m\u001b[1;33m)\u001b[0m\u001b[1;33m**\u001b[0m\u001b[0mgen_shape\u001b[0m\u001b[1;33m)\u001b[0m\u001b[1;33m\u001b[0m\u001b[1;33m\u001b[0m\u001b[0m\n\u001b[0m\u001b[0;32m     33\u001b[0m     \u001b[1;32mreturn\u001b[0m \u001b[0mout\u001b[0m\u001b[1;33m\u001b[0m\u001b[1;33m\u001b[0m\u001b[0m\n\u001b[0;32m     34\u001b[0m \u001b[1;33m\u001b[0m\u001b[0m\n",
      "\u001b[1;31mKeyboardInterrupt\u001b[0m: "
     ]
    }
   ],
   "source": [
    "model_calibrator = hct.model_calibration(haz_rate_scale = 0.81,\n",
    "                                         contact_tracing_success_prob = 0,\n",
    "                                         household_haz_rate_scale = 0.72219,\n",
    "                                         overdispersion = 0.36,\n",
    "                                         infection_reporting_prob = 0.2,\n",
    "                                         contact_trace_delay_par = 3,\n",
    "                                         contact_trace = False,\n",
    "                                         reduce_contacts_by = 0,\n",
    "                                         starting_infections = 1000)\n",
    "\n",
    "out = model_calibrator.generate_secondary_infection_distribution()"
   ]
  },
  {
   "cell_type": "code",
   "execution_count": 5,
   "metadata": {},
   "outputs": [
    {
     "data": {
      "text/plain": [
       "Text(0.5, 0, 'Secondary Infections')"
      ]
     },
     "execution_count": 5,
     "metadata": {},
     "output_type": "execute_result"
    },
    {
     "data": {
      "image/png": "[encoded data removed]",
      "text/plain": [
       "<Figure size 432x288 with 1 Axes>"
      ]
     },
     "metadata": {},
     "output_type": "display_data"
    }
   ],
   "source": [
    "sns.distplot(out, bins = range(15), kde = False)\n",
    "plt.title(\"Distribution of Infections Caused\")\n",
    "plt.xlabel(\"Secondary Infections\")"
   ]
  },
  {
   "cell_type": "markdown",
   "metadata": {},
   "source": [
    "## Growth Rates"
   ]
  },
  {
   "cell_type": "markdown",
   "metadata": {},
   "source": [
    "We prefer to tune our model to a given growth rate, without contact tracing. The growth rate depends upon a (hazard_rate_cale, infection_reporting_prob) pair and we use the simulation script \"Simulate_growth_rates.py\" to perform the growth rate simulations and return a data frame of the outputs. We analyse this data frame here."
   ]
  },
  {
   "cell_type": "code",
   "execution_count": 1,
   "metadata": {},
   "outputs": [
    {
     "ename": "NameError",
     "evalue": "name 'pd' is not defined",
     "output_type": "error",
     "traceback": [
      "\u001b[1;31m---------------------------------------------------------------------------\u001b[0m",
      "\u001b[1;31mNameError\u001b[0m                                 Traceback (most recent call last)",
      "\u001b[1;32m<ipython-input-1-e07514c0702b>\u001b[0m in \u001b[0;36m<module>\u001b[1;34m\u001b[0m\n\u001b[1;32m----> 1\u001b[1;33m \u001b[0mdata\u001b[0m \u001b[1;33m=\u001b[0m \u001b[0mpd\u001b[0m\u001b[1;33m.\u001b[0m\u001b[0mread_excel\u001b[0m\u001b[1;33m(\u001b[0m\u001b[1;34m\"../../Data/Calibration/growth_rates.xlsx\"\u001b[0m\u001b[1;33m,\u001b[0m \u001b[0mindex_col\u001b[0m \u001b[1;33m=\u001b[0m \u001b[1;36m0\u001b[0m\u001b[1;33m)\u001b[0m\u001b[1;33m\u001b[0m\u001b[1;33m\u001b[0m\u001b[0m\n\u001b[0m\u001b[0;32m      2\u001b[0m \u001b[0mdays_simulated\u001b[0m \u001b[1;33m=\u001b[0m \u001b[1;36m20\u001b[0m\u001b[1;33m\u001b[0m\u001b[1;33m\u001b[0m\u001b[0m\n",
      "\u001b[1;31mNameError\u001b[0m: name 'pd' is not defined"
     ]
    }
   ],
   "source": [
    "data = pd.read_excel(\"../../Data/Calibration/growth_rates.xlsx\", index_col = 0)\n",
    "days_simulated = 20"
   ]
  },
  {
   "cell_type": "code",
   "execution_count": 43,
   "metadata": {},
   "outputs": [
    {
     "data": {
      "text/html": [
       "<div>\n",
       "<style scoped>\n",
       "    .dataframe tbody tr th:only-of-type {\n",
       "        vertical-align: middle;\n",
       "    }\n",
       "\n",
       "    .dataframe tbody tr th {\n",
       "        vertical-align: top;\n",
       "    }\n",
       "\n",
       "    .dataframe thead th {\n",
       "        text-align: right;\n",
       "    }\n",
       "</style>\n",
       "<table border=\"1\" class=\"dataframe\">\n",
       "  <thead>\n",
       "    <tr style=\"text-align: right;\">\n",
       "      <th></th>\n",
       "      <th>haz_rate_scale</th>\n",
       "      <th>infection_reporting_prob</th>\n",
       "      <th>0</th>\n",
       "      <th>1</th>\n",
       "      <th>2</th>\n",
       "      <th>3</th>\n",
       "      <th>4</th>\n",
       "      <th>5</th>\n",
       "      <th>6</th>\n",
       "      <th>7</th>\n",
       "      <th>...</th>\n",
       "      <th>10</th>\n",
       "      <th>11</th>\n",
       "      <th>12</th>\n",
       "      <th>13</th>\n",
       "      <th>14</th>\n",
       "      <th>15</th>\n",
       "      <th>16</th>\n",
       "      <th>17</th>\n",
       "      <th>18</th>\n",
       "      <th>19</th>\n",
       "    </tr>\n",
       "  </thead>\n",
       "  <tbody>\n",
       "    <tr>\n",
       "      <th>0</th>\n",
       "      <td>0.81</td>\n",
       "      <td>0.1</td>\n",
       "      <td>200</td>\n",
       "      <td>204</td>\n",
       "      <td>227</td>\n",
       "      <td>278</td>\n",
       "      <td>391</td>\n",
       "      <td>557</td>\n",
       "      <td>757</td>\n",
       "      <td>993</td>\n",
       "      <td>...</td>\n",
       "      <td>2267</td>\n",
       "      <td>2973</td>\n",
       "      <td>3873</td>\n",
       "      <td>5071</td>\n",
       "      <td>6562</td>\n",
       "      <td>8524</td>\n",
       "      <td>10952</td>\n",
       "      <td>14063</td>\n",
       "      <td>18133</td>\n",
       "      <td>23286</td>\n",
       "    </tr>\n",
       "    <tr>\n",
       "      <th>1</th>\n",
       "      <td>0.81</td>\n",
       "      <td>0.2</td>\n",
       "      <td>200</td>\n",
       "      <td>204</td>\n",
       "      <td>230</td>\n",
       "      <td>282</td>\n",
       "      <td>375</td>\n",
       "      <td>524</td>\n",
       "      <td>699</td>\n",
       "      <td>930</td>\n",
       "      <td>...</td>\n",
       "      <td>1982</td>\n",
       "      <td>2549</td>\n",
       "      <td>3289</td>\n",
       "      <td>4225</td>\n",
       "      <td>5435</td>\n",
       "      <td>6916</td>\n",
       "      <td>8846</td>\n",
       "      <td>11241</td>\n",
       "      <td>14439</td>\n",
       "      <td>18394</td>\n",
       "    </tr>\n",
       "    <tr>\n",
       "      <th>2</th>\n",
       "      <td>0.81</td>\n",
       "      <td>0.3</td>\n",
       "      <td>200</td>\n",
       "      <td>202</td>\n",
       "      <td>222</td>\n",
       "      <td>277</td>\n",
       "      <td>376</td>\n",
       "      <td>519</td>\n",
       "      <td>719</td>\n",
       "      <td>973</td>\n",
       "      <td>...</td>\n",
       "      <td>2104</td>\n",
       "      <td>2738</td>\n",
       "      <td>3506</td>\n",
       "      <td>4475</td>\n",
       "      <td>5754</td>\n",
       "      <td>7338</td>\n",
       "      <td>9288</td>\n",
       "      <td>11779</td>\n",
       "      <td>14973</td>\n",
       "      <td>19066</td>\n",
       "    </tr>\n",
       "    <tr>\n",
       "      <th>3</th>\n",
       "      <td>0.81</td>\n",
       "      <td>0.4</td>\n",
       "      <td>200</td>\n",
       "      <td>201</td>\n",
       "      <td>225</td>\n",
       "      <td>283</td>\n",
       "      <td>366</td>\n",
       "      <td>518</td>\n",
       "      <td>704</td>\n",
       "      <td>928</td>\n",
       "      <td>...</td>\n",
       "      <td>2023</td>\n",
       "      <td>2583</td>\n",
       "      <td>3280</td>\n",
       "      <td>4149</td>\n",
       "      <td>5248</td>\n",
       "      <td>6704</td>\n",
       "      <td>8500</td>\n",
       "      <td>10812</td>\n",
       "      <td>13742</td>\n",
       "      <td>17401</td>\n",
       "    </tr>\n",
       "    <tr>\n",
       "      <th>4</th>\n",
       "      <td>0.81</td>\n",
       "      <td>0.5</td>\n",
       "      <td>200</td>\n",
       "      <td>205</td>\n",
       "      <td>232</td>\n",
       "      <td>303</td>\n",
       "      <td>408</td>\n",
       "      <td>573</td>\n",
       "      <td>752</td>\n",
       "      <td>1010</td>\n",
       "      <td>...</td>\n",
       "      <td>2044</td>\n",
       "      <td>2578</td>\n",
       "      <td>3258</td>\n",
       "      <td>4145</td>\n",
       "      <td>5171</td>\n",
       "      <td>6503</td>\n",
       "      <td>8241</td>\n",
       "      <td>10388</td>\n",
       "      <td>12993</td>\n",
       "      <td>16398</td>\n",
       "    </tr>\n",
       "    <tr>\n",
       "      <th>...</th>\n",
       "      <td>...</td>\n",
       "      <td>...</td>\n",
       "      <td>...</td>\n",
       "      <td>...</td>\n",
       "      <td>...</td>\n",
       "      <td>...</td>\n",
       "      <td>...</td>\n",
       "      <td>...</td>\n",
       "      <td>...</td>\n",
       "      <td>...</td>\n",
       "      <td>...</td>\n",
       "      <td>...</td>\n",
       "      <td>...</td>\n",
       "      <td>...</td>\n",
       "      <td>...</td>\n",
       "      <td>...</td>\n",
       "      <td>...</td>\n",
       "      <td>...</td>\n",
       "      <td>...</td>\n",
       "      <td>...</td>\n",
       "      <td>...</td>\n",
       "    </tr>\n",
       "    <tr>\n",
       "      <th>445</th>\n",
       "      <td>0.83</td>\n",
       "      <td>0.5</td>\n",
       "      <td>200</td>\n",
       "      <td>205</td>\n",
       "      <td>233</td>\n",
       "      <td>294</td>\n",
       "      <td>417</td>\n",
       "      <td>549</td>\n",
       "      <td>710</td>\n",
       "      <td>924</td>\n",
       "      <td>...</td>\n",
       "      <td>1838</td>\n",
       "      <td>2351</td>\n",
       "      <td>2885</td>\n",
       "      <td>3568</td>\n",
       "      <td>4387</td>\n",
       "      <td>5360</td>\n",
       "      <td>6583</td>\n",
       "      <td>8006</td>\n",
       "      <td>9762</td>\n",
       "      <td>11876</td>\n",
       "    </tr>\n",
       "    <tr>\n",
       "      <th>446</th>\n",
       "      <td>0.83</td>\n",
       "      <td>0.6</td>\n",
       "      <td>200</td>\n",
       "      <td>205</td>\n",
       "      <td>222</td>\n",
       "      <td>276</td>\n",
       "      <td>372</td>\n",
       "      <td>486</td>\n",
       "      <td>652</td>\n",
       "      <td>860</td>\n",
       "      <td>...</td>\n",
       "      <td>1666</td>\n",
       "      <td>2079</td>\n",
       "      <td>2567</td>\n",
       "      <td>3140</td>\n",
       "      <td>3831</td>\n",
       "      <td>4721</td>\n",
       "      <td>5686</td>\n",
       "      <td>6898</td>\n",
       "      <td>8370</td>\n",
       "      <td>10172</td>\n",
       "    </tr>\n",
       "    <tr>\n",
       "      <th>447</th>\n",
       "      <td>0.83</td>\n",
       "      <td>0.7</td>\n",
       "      <td>200</td>\n",
       "      <td>203</td>\n",
       "      <td>217</td>\n",
       "      <td>271</td>\n",
       "      <td>347</td>\n",
       "      <td>456</td>\n",
       "      <td>579</td>\n",
       "      <td>715</td>\n",
       "      <td>...</td>\n",
       "      <td>1360</td>\n",
       "      <td>1667</td>\n",
       "      <td>2027</td>\n",
       "      <td>2423</td>\n",
       "      <td>2946</td>\n",
       "      <td>3550</td>\n",
       "      <td>4285</td>\n",
       "      <td>5196</td>\n",
       "      <td>6281</td>\n",
       "      <td>7618</td>\n",
       "    </tr>\n",
       "    <tr>\n",
       "      <th>448</th>\n",
       "      <td>0.83</td>\n",
       "      <td>0.8</td>\n",
       "      <td>200</td>\n",
       "      <td>203</td>\n",
       "      <td>226</td>\n",
       "      <td>275</td>\n",
       "      <td>365</td>\n",
       "      <td>471</td>\n",
       "      <td>634</td>\n",
       "      <td>791</td>\n",
       "      <td>...</td>\n",
       "      <td>1505</td>\n",
       "      <td>1849</td>\n",
       "      <td>2228</td>\n",
       "      <td>2706</td>\n",
       "      <td>3271</td>\n",
       "      <td>3972</td>\n",
       "      <td>4781</td>\n",
       "      <td>5766</td>\n",
       "      <td>7000</td>\n",
       "      <td>8420</td>\n",
       "    </tr>\n",
       "    <tr>\n",
       "      <th>449</th>\n",
       "      <td>0.83</td>\n",
       "      <td>0.9</td>\n",
       "      <td>200</td>\n",
       "      <td>206</td>\n",
       "      <td>228</td>\n",
       "      <td>273</td>\n",
       "      <td>359</td>\n",
       "      <td>484</td>\n",
       "      <td>638</td>\n",
       "      <td>779</td>\n",
       "      <td>...</td>\n",
       "      <td>1467</td>\n",
       "      <td>1795</td>\n",
       "      <td>2167</td>\n",
       "      <td>2637</td>\n",
       "      <td>3177</td>\n",
       "      <td>3833</td>\n",
       "      <td>4561</td>\n",
       "      <td>5535</td>\n",
       "      <td>6637</td>\n",
       "      <td>7956</td>\n",
       "    </tr>\n",
       "  </tbody>\n",
       "</table>\n",
       "<p>450 rows × 22 columns</p>\n",
       "</div>"
      ],
      "text/plain": [
       "     haz_rate_scale  infection_reporting_prob    0    1    2    3    4    5  \\\n",
       "0              0.81                       0.1  200  204  227  278  391  557   \n",
       "1              0.81                       0.2  200  204  230  282  375  524   \n",
       "2              0.81                       0.3  200  202  222  277  376  519   \n",
       "3              0.81                       0.4  200  201  225  283  366  518   \n",
       "4              0.81                       0.5  200  205  232  303  408  573   \n",
       "..              ...                       ...  ...  ...  ...  ...  ...  ...   \n",
       "445            0.83                       0.5  200  205  233  294  417  549   \n",
       "446            0.83                       0.6  200  205  222  276  372  486   \n",
       "447            0.83                       0.7  200  203  217  271  347  456   \n",
       "448            0.83                       0.8  200  203  226  275  365  471   \n",
       "449            0.83                       0.9  200  206  228  273  359  484   \n",
       "\n",
       "       6     7  ...    10    11    12    13    14    15     16     17     18  \\\n",
       "0    757   993  ...  2267  2973  3873  5071  6562  8524  10952  14063  18133   \n",
       "1    699   930  ...  1982  2549  3289  4225  5435  6916   8846  11241  14439   \n",
       "2    719   973  ...  2104  2738  3506  4475  5754  7338   9288  11779  14973   \n",
       "3    704   928  ...  2023  2583  3280  4149  5248  6704   8500  10812  13742   \n",
       "4    752  1010  ...  2044  2578  3258  4145  5171  6503   8241  10388  12993   \n",
       "..   ...   ...  ...   ...   ...   ...   ...   ...   ...    ...    ...    ...   \n",
       "445  710   924  ...  1838  2351  2885  3568  4387  5360   6583   8006   9762   \n",
       "446  652   860  ...  1666  2079  2567  3140  3831  4721   5686   6898   8370   \n",
       "447  579   715  ...  1360  1667  2027  2423  2946  3550   4285   5196   6281   \n",
       "448  634   791  ...  1505  1849  2228  2706  3271  3972   4781   5766   7000   \n",
       "449  638   779  ...  1467  1795  2167  2637  3177  3833   4561   5535   6637   \n",
       "\n",
       "        19  \n",
       "0    23286  \n",
       "1    18394  \n",
       "2    19066  \n",
       "3    17401  \n",
       "4    16398  \n",
       "..     ...  \n",
       "445  11876  \n",
       "446  10172  \n",
       "447   7618  \n",
       "448   8420  \n",
       "449   7956  \n",
       "\n",
       "[450 rows x 22 columns]"
      ]
     },
     "execution_count": 43,
     "metadata": {},
     "output_type": "execute_result"
    }
   ],
   "source": [
    "data"
   ]
  },
  {
   "cell_type": "markdown",
   "metadata": {},
   "source": [
    "## Estimation of Growth Rates:"
   ]
  },
  {
   "cell_type": "markdown",
   "metadata": {},
   "source": [
    "We fit a linear model to the epidemics and estimate the growth rate of the epidemic."
   ]
  },
  {
   "cell_type": "code",
   "execution_count": 53,
   "metadata": {},
   "outputs": [],
   "source": [
    "infection_counts = [str(i) for i in range(days_simulated)]\n",
    "number_rows = data.shape[0]"
   ]
  },
  {
   "cell_type": "code",
   "execution_count": 57,
   "metadata": {},
   "outputs": [],
   "source": [
    "data_subset = data[infection_counts]"
   ]
  },
  {
   "cell_type": "code",
   "execution_count": 60,
   "metadata": {},
   "outputs": [
    {
     "name": "stdout",
     "output_type": "stream",
     "text": [
      "current fit; 449\r"
     ]
    }
   ],
   "source": [
    "growth_rates = []\n",
    "\n",
    "for _ in range(data_subset.shape[0]):\n",
    "    \n",
    "    # Which row are we estiamting growth rate for\n",
    "    print(f\"current fit; {_}\", end = \"\\r\")\n",
    "    \n",
    "    # Difference the counts to get the incidence, take the log to get to the growth rate\n",
    "    log_diff = data_subset.iloc[_].diff(1).apply(lambda x: np.log(x))\n",
    "\n",
    "    # temporary dataframe to pass to the linear model\n",
    "    data_set_up = {\n",
    "        \"log_case_incidence\": log_diff[10:days_simulated],\n",
    "        \"time\": list(range(10, days_simulated))\n",
    "    }\n",
    "    dataframe = pd.DataFrame(data_set_up)\n",
    "\n",
    "    # Set up the regression\n",
    "    y, X = dmatrices('log_case_incidence ~ time', \n",
    "                     data = dataframe)\n",
    "    model = sma.RLM(y, X)\n",
    "    res = model.fit()\n",
    "    growth_rates.append(res.params[1])\n",
    "\n",
    "    # Unable to handle missing data, where the epidemic has died out for example\n",
    "    if res.params[1] == -float(\"inf\"):\n",
    "        print(f\"missing data in line {_}\")"
   ]
  },
  {
   "cell_type": "code",
   "execution_count": 64,
   "metadata": {},
   "outputs": [],
   "source": [
    "growth_rate_data =pd.DataFrame({\n",
    "    \"growth_rate\": growth_rates,\n",
    "    \"infection_reporting_prob\": data[\"infection_reporting_prob\"],\n",
    "    \"hazard_rate_scale\": data[\"haz_rate_scale\"]\n",
    "})"
   ]
  },
  {
   "cell_type": "code",
   "execution_count": 68,
   "metadata": {},
   "outputs": [
    {
     "name": "stdout",
     "output_type": "stream",
     "text": [
      "                            OLS Regression Results                            \n",
      "==============================================================================\n",
      "Dep. Variable:            growth_rate   R-squared:                       0.954\n",
      "Model:                            OLS   Adj. R-squared:                  0.954\n",
      "Method:                 Least Squares   F-statistic:                     4604.\n",
      "Date:                Thu, 07 May 2020   Prob (F-statistic):          5.52e-299\n",
      "Time:                        14:43:25   Log-Likelihood:                 1849.5\n",
      "No. Observations:                 450   AIC:                            -3693.\n",
      "Df Residuals:                     447   BIC:                            -3681.\n",
      "Df Model:                           2                                         \n",
      "Covariance Type:            nonrobust                                         \n",
      "============================================================================================\n",
      "                               coef    std err          t      P>|t|      [0.025      0.975]\n",
      "--------------------------------------------------------------------------------------------\n",
      "Intercept                    1.5407      0.026     58.923      0.000       1.489       1.592\n",
      "hazard_rate_scale           -1.5831      0.032    -49.652      0.000      -1.646      -1.520\n",
      "infection_reporting_prob    -0.0597      0.001    -82.119      0.000      -0.061      -0.058\n",
      "==============================================================================\n",
      "Omnibus:                        1.170   Durbin-Watson:                   2.039\n",
      "Prob(Omnibus):                  0.557   Jarque-Bera (JB):                1.187\n",
      "Skew:                          -0.123   Prob(JB):                        0.552\n",
      "Kurtosis:                       2.949   Cond. No.                         305.\n",
      "==============================================================================\n",
      "\n",
      "Warnings:\n",
      "[1] Standard Errors assume that the covariance matrix of the errors is correctly specified.\n"
     ]
    }
   ],
   "source": [
    "y, X = dmatrices('growth_rate ~ hazard_rate_scale + infection_reporting_prob', \n",
    "                 data = growth_rate_data)\n",
    "model_1 = sma.OLS(y, X)\n",
    "res = model_1.fit()\n",
    "print(res.summary())"
   ]
  },
  {
   "cell_type": "code",
   "execution_count": 91,
   "metadata": {},
   "outputs": [],
   "source": [
    "def solve_for_hazard_rate(results, infection_report_prob, growth_rate):\n",
    "    \"\"\"\n",
    "    Sovles for the required hazard rate from the regression data.\n",
    "    \"\"\"\n",
    "    intercept = res.params[0]\n",
    "    beta_0 = res.params[1]\n",
    "    beta_1 = res.params[2]\n",
    "    hazard_rate_scale = (growth_rate - intercept - beta_1 * infection_report_prob) / beta_0\n",
    "    return hazard_rate_scale"
   ]
  },
  {
   "cell_type": "code",
   "execution_count": 108,
   "metadata": {},
   "outputs": [],
   "source": [
    "hazard_rate_getter = lambda infection_report_prob: solve_for_hazard_rate(res, infection_report_prob = infection_report_prob, growth_rate = 0.22)"
   ]
  },
  {
   "cell_type": "code",
   "execution_count": 122,
   "metadata": {},
   "outputs": [],
   "source": [
    "infection_detect_probs = [0.1, 0.2, 0.3, 0.4, 0.5, 0.6, 0.7, 0.8, 0.9]\n",
    "hazard_rates = map(hazard_rate_getter, infection_detect_probs)\n",
    "hazard_rate_detection_prob_pairs = dict(zip(infection_detect_probs, hazard_rates))"
   ]
  },
  {
   "cell_type": "code",
   "execution_count": 123,
   "metadata": {},
   "outputs": [
    {
     "data": {
      "text/plain": [
       "{0.1: 0.8304838472333017,\n",
       " 0.2: 0.8267109189774672,\n",
       " 0.3: 0.8229379907216324,\n",
       " 0.4: 0.8191650624657978,\n",
       " 0.5: 0.8153921342099633,\n",
       " 0.6: 0.8116192059541286,\n",
       " 0.7: 0.807846277698294,\n",
       " 0.8: 0.8040733494424595,\n",
       " 0.9: 0.8003004211866247}"
      ]
     },
     "execution_count": 123,
     "metadata": {},
     "output_type": "execute_result"
    }
   ],
   "source": [
    "hazard_rate_detection_prob_pairs"
   ]
  },
  {
   "cell_type": "code",
   "execution_count": 128,
   "metadata": {},
   "outputs": [],
   "source": [
    "with open('../../Data/Calibration/hazard_rate_detection_prob_pairs.pickle', 'wb') as handle:\n",
    "    pickle.dump(hazard_rate_detection_prob_pairs, handle, protocol=pickle.HIGHEST_PROTOCOL)"
   ]
  },
  {
   "cell_type": "markdown",
   "metadata": {},
   "source": [
    "To load the data use the following:"
   ]
  },
  {
   "cell_type": "code",
   "execution_count": 132,
   "metadata": {},
   "outputs": [],
   "source": [
    "with open('../../Data/Calibration/hazard_rate_detection_prob_pairs.pickle', 'rb') as handle:\n",
    "    pairs_dict = pickle.load(handle)\n"
   ]
  },
  {
   "cell_type": "markdown",
   "metadata": {},
   "source": [
    "## Calibrating the household secondary attack rate"
   ]
  },
  {
   "cell_type": "markdown",
   "metadata": {},
   "source": [
    "The following code estimates the household secondary attack rate for a given hazard rate scale by simulating the within household epidemics. The number of simulations performed is equal to the starting_infections value."
   ]
  },
  {
   "cell_type": "code",
   "execution_count": 4,
   "metadata": {},
   "outputs": [],
   "source": [
    "model_calibrator = hct.model_calibration(haz_rate_scale = 0.795,\n",
    "                                         household_haz_rate_scale = 0.795,\n",
    "                                         contact_tracing_success_prob = 2/3,\n",
    "                                         overdispersion = 0.36,\n",
    "                                         infection_reporting_prob = 0.2,\n",
    "                                         contact_trace_delay_par = 3,\n",
    "                                         contact_trace = False,\n",
    "                                         reduce_contacts_by = 0,\n",
    "                                         starting_infections = 1000)"
   ]
  },
  {
   "cell_type": "code",
   "execution_count": 5,
   "metadata": {},
   "outputs": [
    {
     "name": "stdout",
     "output_type": "stream",
     "text": [
      "Wall time: 5.43 s\n"
     ]
    },
    {
     "data": {
      "text/plain": [
       "0.2320388349514563"
      ]
     },
     "execution_count": 5,
     "metadata": {},
     "output_type": "execute_result"
    }
   ],
   "source": [
    "%%time\n",
    "model_calibrator.estimate_secondary_attack_rate()"
   ]
  },
  {
   "cell_type": "code",
   "execution_count": 7,
   "metadata": {},
   "outputs": [
    {
     "name": "stdout",
     "output_type": "stream",
     "text": [
      "Wall time: 5min 37s\n"
     ]
    }
   ],
   "source": [
    "%%time\n",
    "secondary_attack_rates = []\n",
    "for x in np.linspace(0.7, 0.9):\n",
    "    model_calibrator = hct.model_calibration(haz_rate_scale = x,\n",
    "                                            contact_tracing_success_prob = 2/3,\n",
    "                                            overdispersion = 0.36,\n",
    "                                            infection_reporting_prob = 0.2,\n",
    "                                            contact_trace_delay_par = 3,\n",
    "                                            contact_trace = False,\n",
    "                                            reduce_contacts_by = 0,\n",
    "                                            starting_infections = 1000)\n",
    "    secondary_attack_rates.append(model_calibrator.estimate_secondary_attack_rate())\n",
    "    \n",
    "data = pd.DataFrame({\"household_hazard_rate_scale\": np.linspace(0.7, 0.9),\n",
    "                     \"secondary_attack_rate\": secondary_attack_rates})"
   ]
  },
  {
   "cell_type": "code",
   "execution_count": 8,
   "metadata": {},
   "outputs": [
    {
     "data": {
      "text/plain": [
       "<seaborn.axisgrid.FacetGrid at 0x2489f29fc88>"
      ]
     },
     "execution_count": 8,
     "metadata": {},
     "output_type": "execute_result"
    },
    {
     "data": {
      "image/png": "[encoded data removed]",
      "text/plain": [
       "<Figure size 360x360 with 1 Axes>"
      ]
     },
     "metadata": {},
     "output_type": "display_data"
    }
   ],
   "source": [
    "sns.lmplot(\"household_hazard_rate_scale\", \"secondary_attack_rate\", data = data)"
   ]
  },
  {
   "cell_type": "code",
   "execution_count": 9,
   "metadata": {},
   "outputs": [
    {
     "name": "stdout",
     "output_type": "stream",
     "text": [
      "                              OLS Regression Results                             \n",
      "=================================================================================\n",
      "Dep. Variable:     secondary_attack_rate   R-squared:                       0.983\n",
      "Model:                               OLS   Adj. R-squared:                  0.983\n",
      "Method:                    Least Squares   F-statistic:                     2831.\n",
      "Date:                   Thu, 07 May 2020   Prob (F-statistic):           2.46e-44\n",
      "Time:                           12:39:28   Log-Likelihood:                 153.94\n",
      "No. Observations:                     50   AIC:                            -303.9\n",
      "Df Residuals:                         48   BIC:                            -300.1\n",
      "Df Model:                              1                                         \n",
      "Covariance Type:               nonrobust                                         \n",
      "===============================================================================================\n",
      "                                  coef    std err          t      P>|t|      [0.025      0.975]\n",
      "-----------------------------------------------------------------------------------------------\n",
      "Intercept                       1.3974      0.022     63.854      0.000       1.353       1.441\n",
      "household_hazard_rate_scale    -1.4516      0.027    -53.207      0.000      -1.506      -1.397\n",
      "==============================================================================\n",
      "Omnibus:                        0.839   Durbin-Watson:                   2.088\n",
      "Prob(Omnibus):                  0.657   Jarque-Bera (JB):                0.821\n",
      "Skew:                          -0.082   Prob(JB):                        0.663\n",
      "Kurtosis:                       2.394   Cond. No.                         27.9\n",
      "==============================================================================\n",
      "\n",
      "Warnings:\n",
      "[1] Standard Errors assume that the covariance matrix of the errors is correctly specified.\n"
     ]
    }
   ],
   "source": [
    "y, X = dmatrices('secondary_attack_rate ~ household_hazard_rate_scale', \n",
    "                 data = data)\n",
    "model_1 = sma.OLS(y, X)\n",
    "res = model_1.fit()\n",
    "print(res.summary())"
   ]
  },
  {
   "cell_type": "code",
   "execution_count": 10,
   "metadata": {},
   "outputs": [
    {
     "data": {
      "text/plain": [
       "-23.148115578186975"
      ]
     },
     "execution_count": 10,
     "metadata": {},
     "output_type": "execute_result"
    }
   ],
   "source": [
    "solve_for_x(35, res)"
   ]
  },
  {
   "cell_type": "markdown",
   "metadata": {},
   "source": [
    "A secondary household attack rate of 35% requires the hazard rate scaling to be around 0.722"
   ]
  },
  {
   "cell_type": "markdown",
   "metadata": {},
   "source": [
    "### We now have the hazard rate that leads to correctly assumed within household dynamics"
   ]
  },
  {
   "cell_type": "markdown",
   "metadata": {},
   "source": [
    "In practice we use the script \"tune_R0.py\" to estimate the $R_0$ value for a range of different inputs, however we demonstrate this below."
   ]
  },
  {
   "cell_type": "code",
   "execution_count": 22,
   "metadata": {},
   "outputs": [],
   "source": [
    "household_hazard_rate = solve_for_x(0.35, res)"
   ]
  },
  {
   "cell_type": "code",
   "execution_count": 23,
   "metadata": {},
   "outputs": [],
   "source": [
    "model_calibrator = hct.model_calibration(haz_rate_scale = 0.81,\n",
    "                                         household_haz_rate_scale = household_hazard_rate,\n",
    "                                         contact_tracing_success_prob = 0,\n",
    "                                         overdispersion = 0.36,\n",
    "                                         infection_reporting_prob = 0.2,\n",
    "                                         contact_trace_delay_par = 3,\n",
    "                                         contact_trace = False,\n",
    "                                         reduce_contacts_by = 0)"
   ]
  },
  {
   "cell_type": "code",
   "execution_count": null,
   "metadata": {},
   "outputs": [],
   "source": [
    "model_calibration.calculate_R0()"
   ]
  },
  {
   "cell_type": "code",
   "execution_count": 80,
   "metadata": {},
   "outputs": [
    {
     "name": "stdout",
     "output_type": "stream",
     "text": [
      "x values : 0.81   repeat: 00\r"
     ]
    }
   ],
   "source": [
    "x_vals = np.linspace(0.79, 0.81, 5)\n",
    "repetitions = 1\n",
    "hazard_rate_scale = []\n",
    "R0_estimate = []\n",
    "for x in x_vals:\n",
    "    model_calibration = model.model_calibration(haz_rate_scale = x,\n",
    "                                                household_haz_rate_scale = household_hazard_rate,\n",
    "                                                contact_tracing_success_prob = 2/3,\n",
    "                                                contact_trace_delay_par = 1/3,\n",
    "                                                overdispersion = 0.36,\n",
    "                                                infection_reporting_prob = 0.7,\n",
    "                                                contact_trace = True,\n",
    "                                                reduce_contacts_by = 0)\n",
    "    for repeat in range(repetitions):\n",
    "        print(f\"x values : {x}   repeat: {repeat}\", end = \"\\r\")\n",
    "        hazard_rate_scale.append(x)\n",
    "        R0_estimate.append(model_calibration.calculate_R0())"
   ]
  },
  {
   "cell_type": "code",
   "execution_count": 30,
   "metadata": {},
   "outputs": [],
   "source": [
    "data = pd.read_excel(\"../../Data/calibration_R0_vals.xlsx\")"
   ]
  },
  {
   "cell_type": "code",
   "execution_count": 31,
   "metadata": {},
   "outputs": [
    {
     "data": {
      "image/png": "[encoded data removed]",
      "text/plain": [
       "<Figure size 360x360 with 1 Axes>"
      ]
     },
     "metadata": {},
     "output_type": "display_data"
    }
   ],
   "source": [
    "plot = sns.lmplot(\"hazard_rate_scale\", \"HH Secondary Attack Rate\", data)"
   ]
  },
  {
   "cell_type": "code",
   "execution_count": 66,
   "metadata": {},
   "outputs": [
    {
     "name": "stdout",
     "output_type": "stream",
     "text": [
      "                            OLS Regression Results                            \n",
      "==============================================================================\n",
      "Dep. Variable:            R0_estimate   R-squared:                       0.795\n",
      "Model:                            OLS   Adj. R-squared:                  0.784\n",
      "Method:                 Least Squares   F-statistic:                     69.86\n",
      "Date:                Sun, 03 May 2020   Prob (F-statistic):           1.31e-07\n",
      "Time:                        00:35:51   Log-Likelihood:                 16.596\n",
      "No. Observations:                  20   AIC:                            -29.19\n",
      "Df Residuals:                      18   BIC:                            -27.20\n",
      "Df Model:                           1                                         \n",
      "Covariance Type:            nonrobust                                         \n",
      "=====================================================================================\n",
      "                        coef    std err          t      P>|t|      [0.025      0.975]\n",
      "-------------------------------------------------------------------------------------\n",
      "Intercept            17.1675      1.660     10.342      0.000      13.680      20.655\n",
      "hazard_rate_scale   -17.1261      2.049     -8.358      0.000     -21.431     -12.821\n",
      "==============================================================================\n",
      "Omnibus:                        1.387   Durbin-Watson:                   2.014\n",
      "Prob(Omnibus):                  0.500   Jarque-Bera (JB):                0.882\n",
      "Skew:                           0.074   Prob(JB):                        0.644\n",
      "Kurtosis:                       1.982   Cond. No.                         136.\n",
      "==============================================================================\n",
      "\n",
      "Warnings:\n",
      "[1] Standard Errors assume that the covariance matrix of the errors is correctly specified.\n"
     ]
    }
   ],
   "source": [
    "y, X = dmatrices('R0_estimate ~ hazard_rate_scale', \n",
    "                 data = data)\n",
    "model_1 = sma.OLS(y, X)\n",
    "res = model_1.fit()\n",
    "print(res.summary())"
   ]
  },
  {
   "cell_type": "code",
   "execution_count": 67,
   "metadata": {},
   "outputs": [
    {
     "data": {
      "text/plain": [
       "0.827243449006354"
      ]
     },
     "execution_count": 67,
     "metadata": {},
     "output_type": "execute_result"
    }
   ],
   "source": [
    "solve_for_x(3.0, res)"
   ]
  },
  {
   "cell_type": "code",
   "execution_count": 68,
   "metadata": {},
   "outputs": [
    {
     "data": {
      "text/plain": [
       "0.8389215257885617"
      ]
     },
     "execution_count": 68,
     "metadata": {},
     "output_type": "execute_result"
    }
   ],
   "source": [
    "solve_for_x(2.8, res)"
   ]
  },
  {
   "cell_type": "code",
   "execution_count": 69,
   "metadata": {},
   "outputs": [
    {
     "data": {
      "text/plain": [
       "0.8505996025707694"
      ]
     },
     "execution_count": 69,
     "metadata": {},
     "output_type": "execute_result"
    }
   ],
   "source": [
    "solve_for_x(2.6, res)"
   ]
  }
 ],
 "metadata": {
  "kernelspec": {
   "display_name": "Python 3",
   "language": "python",
   "name": "python3"
  },
  "language_info": {
   "codemirror_mode": {
    "name": "ipython",
    "version": 3
   },
   "file_extension": ".py",
   "mimetype": "text/x-python",
   "name": "python",
   "nbconvert_exporter": "python",
   "pygments_lexer": "ipython3",
   "version": "3.7.6"
  }
 },
 "nbformat": 4,
 "nbformat_minor": 4
}
