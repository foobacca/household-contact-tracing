{
 "cells": [
  {
   "cell_type": "markdown",
   "metadata": {},
   "source": [
    "# Reference Data"
   ]
  },
  {
   "cell_type": "code",
   "execution_count": 1,
   "metadata": {},
   "outputs": [],
   "source": [
    "import matplotlib.pyplot as plt\n",
    "import numpy as np\n",
    "import pandas as pd\n",
    "from patsy import dmatrices\n",
    "import seaborn as sns\n",
    "import statsmodels as sm\n",
    "import statsmodels.api as sma\n",
    "sns.set()"
   ]
  },
  {
   "cell_type": "markdown",
   "metadata": {},
   "source": [
    "We generate reference data by simulating the epidemic with no contact tracing. Through this, we can gain an understanding of how well contact tracing is able to control the epidemic in terms of a growth rate reduction.\n",
    "\n",
    "This is done using the simulation script - \"Simulate_growth_rates_no_tracing.py\""
   ]
  },
  {
   "cell_type": "code",
   "execution_count": 3,
   "metadata": {},
   "outputs": [],
   "source": [
    "# Import the data\n",
    "reference_data = pd.read_excel(\"../../Data/Reference/growth_rates_no_tracing.xlsx\", index_col = 0)"
   ]
  },
  {
   "cell_type": "code",
   "execution_count": 3,
   "metadata": {},
   "outputs": [
    {
     "data": {
      "text/html": [
       "<div>\n",
       "<style scoped>\n",
       "    .dataframe tbody tr th:only-of-type {\n",
       "        vertical-align: middle;\n",
       "    }\n",
       "\n",
       "    .dataframe tbody tr th {\n",
       "        vertical-align: top;\n",
       "    }\n",
       "\n",
       "    .dataframe thead th {\n",
       "        text-align: right;\n",
       "    }\n",
       "</style>\n",
       "<table border=\"1\" class=\"dataframe\">\n",
       "  <thead>\n",
       "    <tr style=\"text-align: right;\">\n",
       "      <th></th>\n",
       "      <th>infection_reporting_prob</th>\n",
       "      <th>global_contact_reduction</th>\n",
       "      <th>0</th>\n",
       "      <th>1</th>\n",
       "      <th>2</th>\n",
       "      <th>3</th>\n",
       "      <th>4</th>\n",
       "      <th>5</th>\n",
       "      <th>6</th>\n",
       "      <th>7</th>\n",
       "      <th>...</th>\n",
       "      <th>10</th>\n",
       "      <th>11</th>\n",
       "      <th>12</th>\n",
       "      <th>13</th>\n",
       "      <th>14</th>\n",
       "      <th>15</th>\n",
       "      <th>16</th>\n",
       "      <th>17</th>\n",
       "      <th>18</th>\n",
       "      <th>19</th>\n",
       "    </tr>\n",
       "  </thead>\n",
       "  <tbody>\n",
       "    <tr>\n",
       "      <th>0</th>\n",
       "      <td>0.1</td>\n",
       "      <td>0.0</td>\n",
       "      <td>5000</td>\n",
       "      <td>5090</td>\n",
       "      <td>5614</td>\n",
       "      <td>6966</td>\n",
       "      <td>9314</td>\n",
       "      <td>12544</td>\n",
       "      <td>16728</td>\n",
       "      <td>21782</td>\n",
       "      <td>...</td>\n",
       "      <td>44978</td>\n",
       "      <td>56982</td>\n",
       "      <td>71513</td>\n",
       "      <td>89730</td>\n",
       "      <td>112513</td>\n",
       "      <td>140947</td>\n",
       "      <td>176274</td>\n",
       "      <td>220376</td>\n",
       "      <td>275081</td>\n",
       "      <td>342810</td>\n",
       "    </tr>\n",
       "    <tr>\n",
       "      <th>1</th>\n",
       "      <td>0.2</td>\n",
       "      <td>0.0</td>\n",
       "      <td>5000</td>\n",
       "      <td>5082</td>\n",
       "      <td>5605</td>\n",
       "      <td>6998</td>\n",
       "      <td>9262</td>\n",
       "      <td>12678</td>\n",
       "      <td>17006</td>\n",
       "      <td>22103</td>\n",
       "      <td>...</td>\n",
       "      <td>45563</td>\n",
       "      <td>57614</td>\n",
       "      <td>72529</td>\n",
       "      <td>91487</td>\n",
       "      <td>114722</td>\n",
       "      <td>143590</td>\n",
       "      <td>179834</td>\n",
       "      <td>225231</td>\n",
       "      <td>281049</td>\n",
       "      <td>351064</td>\n",
       "    </tr>\n",
       "    <tr>\n",
       "      <th>2</th>\n",
       "      <td>0.3</td>\n",
       "      <td>0.0</td>\n",
       "      <td>5000</td>\n",
       "      <td>5074</td>\n",
       "      <td>5607</td>\n",
       "      <td>7020</td>\n",
       "      <td>9450</td>\n",
       "      <td>12925</td>\n",
       "      <td>17374</td>\n",
       "      <td>22738</td>\n",
       "      <td>...</td>\n",
       "      <td>47274</td>\n",
       "      <td>59865</td>\n",
       "      <td>75773</td>\n",
       "      <td>95595</td>\n",
       "      <td>120038</td>\n",
       "      <td>150585</td>\n",
       "      <td>188737</td>\n",
       "      <td>235943</td>\n",
       "      <td>295329</td>\n",
       "      <td>368844</td>\n",
       "    </tr>\n",
       "    <tr>\n",
       "      <th>3</th>\n",
       "      <td>0.4</td>\n",
       "      <td>0.0</td>\n",
       "      <td>5000</td>\n",
       "      <td>5090</td>\n",
       "      <td>5632</td>\n",
       "      <td>7068</td>\n",
       "      <td>9523</td>\n",
       "      <td>12978</td>\n",
       "      <td>17298</td>\n",
       "      <td>22498</td>\n",
       "      <td>...</td>\n",
       "      <td>46551</td>\n",
       "      <td>58945</td>\n",
       "      <td>74331</td>\n",
       "      <td>93373</td>\n",
       "      <td>117227</td>\n",
       "      <td>147225</td>\n",
       "      <td>184407</td>\n",
       "      <td>231024</td>\n",
       "      <td>288912</td>\n",
       "      <td>361612</td>\n",
       "    </tr>\n",
       "    <tr>\n",
       "      <th>4</th>\n",
       "      <td>0.5</td>\n",
       "      <td>0.0</td>\n",
       "      <td>5000</td>\n",
       "      <td>5088</td>\n",
       "      <td>5641</td>\n",
       "      <td>7052</td>\n",
       "      <td>9546</td>\n",
       "      <td>13012</td>\n",
       "      <td>17495</td>\n",
       "      <td>22805</td>\n",
       "      <td>...</td>\n",
       "      <td>47497</td>\n",
       "      <td>60134</td>\n",
       "      <td>75945</td>\n",
       "      <td>95205</td>\n",
       "      <td>119468</td>\n",
       "      <td>149595</td>\n",
       "      <td>187057</td>\n",
       "      <td>233807</td>\n",
       "      <td>292640</td>\n",
       "      <td>365540</td>\n",
       "    </tr>\n",
       "    <tr>\n",
       "      <th>...</th>\n",
       "      <td>...</td>\n",
       "      <td>...</td>\n",
       "      <td>...</td>\n",
       "      <td>...</td>\n",
       "      <td>...</td>\n",
       "      <td>...</td>\n",
       "      <td>...</td>\n",
       "      <td>...</td>\n",
       "      <td>...</td>\n",
       "      <td>...</td>\n",
       "      <td>...</td>\n",
       "      <td>...</td>\n",
       "      <td>...</td>\n",
       "      <td>...</td>\n",
       "      <td>...</td>\n",
       "      <td>...</td>\n",
       "      <td>...</td>\n",
       "      <td>...</td>\n",
       "      <td>...</td>\n",
       "      <td>...</td>\n",
       "      <td>...</td>\n",
       "    </tr>\n",
       "    <tr>\n",
       "      <th>445</th>\n",
       "      <td>0.5</td>\n",
       "      <td>0.9</td>\n",
       "      <td>5000</td>\n",
       "      <td>5022</td>\n",
       "      <td>5145</td>\n",
       "      <td>5429</td>\n",
       "      <td>5866</td>\n",
       "      <td>6458</td>\n",
       "      <td>7025</td>\n",
       "      <td>7507</td>\n",
       "      <td>...</td>\n",
       "      <td>8400</td>\n",
       "      <td>8628</td>\n",
       "      <td>8798</td>\n",
       "      <td>8919</td>\n",
       "      <td>9052</td>\n",
       "      <td>9139</td>\n",
       "      <td>9221</td>\n",
       "      <td>9287</td>\n",
       "      <td>9336</td>\n",
       "      <td>9375</td>\n",
       "    </tr>\n",
       "    <tr>\n",
       "      <th>446</th>\n",
       "      <td>0.6</td>\n",
       "      <td>0.9</td>\n",
       "      <td>5000</td>\n",
       "      <td>5017</td>\n",
       "      <td>5145</td>\n",
       "      <td>5459</td>\n",
       "      <td>5957</td>\n",
       "      <td>6505</td>\n",
       "      <td>7099</td>\n",
       "      <td>7545</td>\n",
       "      <td>...</td>\n",
       "      <td>8475</td>\n",
       "      <td>8670</td>\n",
       "      <td>8853</td>\n",
       "      <td>8998</td>\n",
       "      <td>9113</td>\n",
       "      <td>9209</td>\n",
       "      <td>9283</td>\n",
       "      <td>9341</td>\n",
       "      <td>9387</td>\n",
       "      <td>9423</td>\n",
       "    </tr>\n",
       "    <tr>\n",
       "      <th>447</th>\n",
       "      <td>0.7</td>\n",
       "      <td>0.9</td>\n",
       "      <td>5000</td>\n",
       "      <td>5018</td>\n",
       "      <td>5164</td>\n",
       "      <td>5466</td>\n",
       "      <td>5933</td>\n",
       "      <td>6487</td>\n",
       "      <td>7060</td>\n",
       "      <td>7493</td>\n",
       "      <td>...</td>\n",
       "      <td>8309</td>\n",
       "      <td>8494</td>\n",
       "      <td>8638</td>\n",
       "      <td>8765</td>\n",
       "      <td>8866</td>\n",
       "      <td>8933</td>\n",
       "      <td>8995</td>\n",
       "      <td>9049</td>\n",
       "      <td>9092</td>\n",
       "      <td>9128</td>\n",
       "    </tr>\n",
       "    <tr>\n",
       "      <th>448</th>\n",
       "      <td>0.8</td>\n",
       "      <td>0.9</td>\n",
       "      <td>5000</td>\n",
       "      <td>5021</td>\n",
       "      <td>5124</td>\n",
       "      <td>5432</td>\n",
       "      <td>5946</td>\n",
       "      <td>6543</td>\n",
       "      <td>7104</td>\n",
       "      <td>7598</td>\n",
       "      <td>...</td>\n",
       "      <td>8373</td>\n",
       "      <td>8538</td>\n",
       "      <td>8680</td>\n",
       "      <td>8811</td>\n",
       "      <td>8910</td>\n",
       "      <td>8985</td>\n",
       "      <td>9037</td>\n",
       "      <td>9081</td>\n",
       "      <td>9128</td>\n",
       "      <td>9157</td>\n",
       "    </tr>\n",
       "    <tr>\n",
       "      <th>449</th>\n",
       "      <td>0.9</td>\n",
       "      <td>0.9</td>\n",
       "      <td>5000</td>\n",
       "      <td>5018</td>\n",
       "      <td>5141</td>\n",
       "      <td>5460</td>\n",
       "      <td>5988</td>\n",
       "      <td>6607</td>\n",
       "      <td>7159</td>\n",
       "      <td>7630</td>\n",
       "      <td>...</td>\n",
       "      <td>8422</td>\n",
       "      <td>8592</td>\n",
       "      <td>8747</td>\n",
       "      <td>8854</td>\n",
       "      <td>8941</td>\n",
       "      <td>8996</td>\n",
       "      <td>9054</td>\n",
       "      <td>9103</td>\n",
       "      <td>9125</td>\n",
       "      <td>9161</td>\n",
       "    </tr>\n",
       "  </tbody>\n",
       "</table>\n",
       "<p>450 rows × 22 columns</p>\n",
       "</div>"
      ],
      "text/plain": [
       "     infection_reporting_prob  global_contact_reduction     0     1     2  \\\n",
       "0                         0.1                       0.0  5000  5090  5614   \n",
       "1                         0.2                       0.0  5000  5082  5605   \n",
       "2                         0.3                       0.0  5000  5074  5607   \n",
       "3                         0.4                       0.0  5000  5090  5632   \n",
       "4                         0.5                       0.0  5000  5088  5641   \n",
       "..                        ...                       ...   ...   ...   ...   \n",
       "445                       0.5                       0.9  5000  5022  5145   \n",
       "446                       0.6                       0.9  5000  5017  5145   \n",
       "447                       0.7                       0.9  5000  5018  5164   \n",
       "448                       0.8                       0.9  5000  5021  5124   \n",
       "449                       0.9                       0.9  5000  5018  5141   \n",
       "\n",
       "        3     4      5      6      7  ...     10     11     12     13      14  \\\n",
       "0    6966  9314  12544  16728  21782  ...  44978  56982  71513  89730  112513   \n",
       "1    6998  9262  12678  17006  22103  ...  45563  57614  72529  91487  114722   \n",
       "2    7020  9450  12925  17374  22738  ...  47274  59865  75773  95595  120038   \n",
       "3    7068  9523  12978  17298  22498  ...  46551  58945  74331  93373  117227   \n",
       "4    7052  9546  13012  17495  22805  ...  47497  60134  75945  95205  119468   \n",
       "..    ...   ...    ...    ...    ...  ...    ...    ...    ...    ...     ...   \n",
       "445  5429  5866   6458   7025   7507  ...   8400   8628   8798   8919    9052   \n",
       "446  5459  5957   6505   7099   7545  ...   8475   8670   8853   8998    9113   \n",
       "447  5466  5933   6487   7060   7493  ...   8309   8494   8638   8765    8866   \n",
       "448  5432  5946   6543   7104   7598  ...   8373   8538   8680   8811    8910   \n",
       "449  5460  5988   6607   7159   7630  ...   8422   8592   8747   8854    8941   \n",
       "\n",
       "         15      16      17      18      19  \n",
       "0    140947  176274  220376  275081  342810  \n",
       "1    143590  179834  225231  281049  351064  \n",
       "2    150585  188737  235943  295329  368844  \n",
       "3    147225  184407  231024  288912  361612  \n",
       "4    149595  187057  233807  292640  365540  \n",
       "..      ...     ...     ...     ...     ...  \n",
       "445    9139    9221    9287    9336    9375  \n",
       "446    9209    9283    9341    9387    9423  \n",
       "447    8933    8995    9049    9092    9128  \n",
       "448    8985    9037    9081    9128    9157  \n",
       "449    8996    9054    9103    9125    9161  \n",
       "\n",
       "[450 rows x 22 columns]"
      ]
     },
     "execution_count": 3,
     "metadata": {},
     "output_type": "execute_result"
    }
   ],
   "source": [
    "reference_data"
   ]
  },
  {
   "cell_type": "code",
   "execution_count": 5,
   "metadata": {},
   "outputs": [],
   "source": [
    "# Create variable for easy subsetting of column counts\n",
    "infection_count_col_names = [str(i) for i in range(20)]"
   ]
  },
  {
   "cell_type": "code",
   "execution_count": 6,
   "metadata": {},
   "outputs": [],
   "source": [
    "data_subset = reference_data[infection_count_col_names]"
   ]
  },
  {
   "cell_type": "code",
   "execution_count": 7,
   "metadata": {},
   "outputs": [
    {
     "name": "stdout",
     "output_type": "stream",
     "text": [
      "current fit; 449\r"
     ]
    }
   ],
   "source": [
    "# Fitting OLS regressions to estimate the growth rate\n",
    "growth_rates = []\n",
    "\n",
    "# Loop over rows\n",
    "for _ in range(data_subset.shape[0]):\n",
    "    \n",
    "    print(f\"current fit; {_}\", end = \"\\r\")\n",
    "    \n",
    "    # Difference to get the incidence and take the log to get the growth\n",
    "    log_diff = data_subset.iloc[_].diff(1).apply(lambda x: np.log(x))\n",
    "\n",
    "    # make a dataframe\n",
    "    data_set_up = {\n",
    "        \"log_case_incidence\": log_diff[10:20],\n",
    "        \"time\": list(range(10, 20))\n",
    "    }\n",
    "    dataframe = pd.DataFrame(data_set_up)\n",
    "    \n",
    "    # Create design matrix and regress\n",
    "    y, X = dmatrices('log_case_incidence ~ time', \n",
    "                     data = dataframe)\n",
    "    model = sma.RLM(y, X)\n",
    "    res = model.fit()\n",
    "    growth_rates.append(res.params[1])\n",
    "\n",
    "    # If the initial starting value of the epidemic is not high enough you can get missing data\n",
    "    if res.params[1] == -float(\"inf\"):\n",
    "        print(f\"missing data in line {_}\")"
   ]
  },
  {
   "cell_type": "code",
   "execution_count": 8,
   "metadata": {},
   "outputs": [
    {
     "data": {
      "text/plain": [
       "Text(0, 0.5, 'Frequency')"
      ]
     },
     "execution_count": 8,
     "metadata": {},
     "output_type": "execute_result"
    },
    {
     "data": {
      "image/png": "[encoded data removed]",
      "text/plain": [
       "<Figure size 432x288 with 1 Axes>"
      ]
     },
     "metadata": {},
     "output_type": "display_data"
    }
   ],
   "source": [
    "sns.distplot(growth_rates)\n",
    "plt.title(\"Growth Rate Distribution\")\n",
    "plt.xlabel(\"Growth Rates\")\n",
    "plt.ylabel(\"Frequency\")"
   ]
  },
  {
   "cell_type": "code",
   "execution_count": 9,
   "metadata": {},
   "outputs": [],
   "source": [
    "results = reference_data[[\"global_contact_reduction\", \"infection_reporting_prob\"]]"
   ]
  },
  {
   "cell_type": "code",
   "execution_count": 10,
   "metadata": {},
   "outputs": [
    {
     "name": "stderr",
     "output_type": "stream",
     "text": [
      "C:\\Users\\mfyles\\Anaconda3\\lib\\site-packages\\ipykernel_launcher.py:1: SettingWithCopyWarning: \n",
      "A value is trying to be set on a copy of a slice from a DataFrame.\n",
      "Try using .loc[row_indexer,col_indexer] = value instead\n",
      "\n",
      "See the caveats in the documentation: https://pandas.pydata.org/pandas-docs/stable/user_guide/indexing.html#returning-a-view-versus-a-copy\n",
      "  \"\"\"Entry point for launching an IPython kernel.\n"
     ]
    }
   ],
   "source": [
    "results[\"growth_rate\"] = pd.Series(growth_rates)"
   ]
  },
  {
   "cell_type": "markdown",
   "metadata": {},
   "source": [
    "Create a data table of the observed growth rate and "
   ]
  },
  {
   "cell_type": "code",
   "execution_count": 11,
   "metadata": {},
   "outputs": [
    {
     "data": {
      "text/html": [
       "<div>\n",
       "<style scoped>\n",
       "    .dataframe tbody tr th:only-of-type {\n",
       "        vertical-align: middle;\n",
       "    }\n",
       "\n",
       "    .dataframe tbody tr th {\n",
       "        vertical-align: top;\n",
       "    }\n",
       "\n",
       "    .dataframe thead th {\n",
       "        text-align: right;\n",
       "    }\n",
       "</style>\n",
       "<table border=\"1\" class=\"dataframe\">\n",
       "  <thead>\n",
       "    <tr style=\"text-align: right;\">\n",
       "      <th></th>\n",
       "      <th>global_contact_reduction</th>\n",
       "      <th>infection_reporting_prob</th>\n",
       "      <th>growth_rate</th>\n",
       "    </tr>\n",
       "  </thead>\n",
       "  <tbody>\n",
       "    <tr>\n",
       "      <th>0</th>\n",
       "      <td>0.0</td>\n",
       "      <td>0.1</td>\n",
       "      <td>0.218568</td>\n",
       "    </tr>\n",
       "    <tr>\n",
       "      <th>1</th>\n",
       "      <td>0.0</td>\n",
       "      <td>0.2</td>\n",
       "      <td>0.220847</td>\n",
       "    </tr>\n",
       "    <tr>\n",
       "      <th>2</th>\n",
       "      <td>0.0</td>\n",
       "      <td>0.3</td>\n",
       "      <td>0.220671</td>\n",
       "    </tr>\n",
       "    <tr>\n",
       "      <th>3</th>\n",
       "      <td>0.0</td>\n",
       "      <td>0.4</td>\n",
       "      <td>0.220804</td>\n",
       "    </tr>\n",
       "    <tr>\n",
       "      <th>4</th>\n",
       "      <td>0.0</td>\n",
       "      <td>0.5</td>\n",
       "      <td>0.218835</td>\n",
       "    </tr>\n",
       "    <tr>\n",
       "      <th>...</th>\n",
       "      <td>...</td>\n",
       "      <td>...</td>\n",
       "      <td>...</td>\n",
       "    </tr>\n",
       "    <tr>\n",
       "      <th>445</th>\n",
       "      <td>0.9</td>\n",
       "      <td>0.5</td>\n",
       "      <td>-0.203700</td>\n",
       "    </tr>\n",
       "    <tr>\n",
       "      <th>446</th>\n",
       "      <td>0.9</td>\n",
       "      <td>0.6</td>\n",
       "      <td>-0.224432</td>\n",
       "    </tr>\n",
       "    <tr>\n",
       "      <th>447</th>\n",
       "      <td>0.9</td>\n",
       "      <td>0.7</td>\n",
       "      <td>-0.198868</td>\n",
       "    </tr>\n",
       "    <tr>\n",
       "      <th>448</th>\n",
       "      <td>0.9</td>\n",
       "      <td>0.8</td>\n",
       "      <td>-0.214557</td>\n",
       "    </tr>\n",
       "    <tr>\n",
       "      <th>449</th>\n",
       "      <td>0.9</td>\n",
       "      <td>0.9</td>\n",
       "      <td>-0.205071</td>\n",
       "    </tr>\n",
       "  </tbody>\n",
       "</table>\n",
       "<p>450 rows × 3 columns</p>\n",
       "</div>"
      ],
      "text/plain": [
       "     global_contact_reduction  infection_reporting_prob  growth_rate\n",
       "0                         0.0                       0.1     0.218568\n",
       "1                         0.0                       0.2     0.220847\n",
       "2                         0.0                       0.3     0.220671\n",
       "3                         0.0                       0.4     0.220804\n",
       "4                         0.0                       0.5     0.218835\n",
       "..                        ...                       ...          ...\n",
       "445                       0.9                       0.5    -0.203700\n",
       "446                       0.9                       0.6    -0.224432\n",
       "447                       0.9                       0.7    -0.198868\n",
       "448                       0.9                       0.8    -0.214557\n",
       "449                       0.9                       0.9    -0.205071\n",
       "\n",
       "[450 rows x 3 columns]"
      ]
     },
     "execution_count": 11,
     "metadata": {},
     "output_type": "execute_result"
    }
   ],
   "source": [
    "results"
   ]
  },
  {
   "cell_type": "code",
   "execution_count": 12,
   "metadata": {},
   "outputs": [
    {
     "data": {
      "text/plain": [
       "Text(0.5, 0, '% reduction in global contacts')"
      ]
     },
     "execution_count": 12,
     "metadata": {},
     "output_type": "execute_result"
    },
    {
     "data": {
      "image/png": "[encoded data removed]",
      "text/plain": [
       "<Figure size 432x288 with 1 Axes>"
      ]
     },
     "metadata": {},
     "output_type": "display_data"
    }
   ],
   "source": [
    "for infection_report_value in [0.1, 0.2, 0.3, 0.4, 0.5, 0.6, 0.7, 0.8, 0.9]:\n",
    "    \n",
    "    subset = results[results[\"infection_reporting_prob\"] == infection_report_value]\n",
    "    \n",
    "    plt.plot(\"global_contact_reduction\", \"growth_rate\", data = subset)\n",
    "    \n",
    "plt.title(\"Growth rate of epidemics, no tracing\")\n",
    "\n",
    "plt.xlabel(\"% reduction in global contacts\")"
   ]
  },
  {
   "cell_type": "markdown",
   "metadata": {},
   "source": [
    "There's some pretty clear heteroscedasticity in the results. We estimate the mean growth rate using robust linear regression to cope with it (I tried iteratively reweighted least squares but can't figure it out at the moment)."
   ]
  },
  {
   "cell_type": "code",
   "execution_count": 13,
   "metadata": {},
   "outputs": [
    {
     "name": "stdout",
     "output_type": "stream",
     "text": [
      "                    Robust linear Model Regression Results                    \n",
      "==============================================================================\n",
      "Dep. Variable:            growth_rate   No. Observations:                  450\n",
      "Model:                            RLM   Df Residuals:                      447\n",
      "Method:                          IRLS   Df Model:                            2\n",
      "Norm:                          HuberT                                         \n",
      "Scale Est.:                       mad                                         \n",
      "Cov Type:                          H1                                         \n",
      "Date:                Mon, 11 May 2020                                         \n",
      "Time:                        14:07:59                                         \n",
      "No. Iterations:                    39                                         \n",
      "====================================================================================================\n",
      "                                       coef    std err          z      P>|z|      [0.025      0.975]\n",
      "----------------------------------------------------------------------------------------------------\n",
      "Intercept                            0.2137      0.001    162.091      0.000       0.211       0.216\n",
      "global_contact_reduction            -0.1529      0.007    -22.572      0.000      -0.166      -0.140\n",
      "I(global_contact_reduction ** 2)    -0.2892      0.007    -39.728      0.000      -0.304      -0.275\n",
      "====================================================================================================\n",
      "\n",
      "If the model instance has been used for another fit with different fit parameters, then the fit options might not be the correct ones anymore .\n"
     ]
    }
   ],
   "source": [
    "y, X = dmatrices('growth_rate ~ global_contact_reduction + I(global_contact_reduction**2)',\n",
    "                 data = results)\n",
    "model = sma.RLM(y, X)\n",
    "res = model.fit()\n",
    "print(res.summary())\n",
    "#sm.graphics.regressionplots.plot_fit(res, \"global_contact_reduction\")"
   ]
  },
  {
   "cell_type": "code",
   "execution_count": 14,
   "metadata": {},
   "outputs": [
    {
     "data": {
      "text/plain": [
       "[<matplotlib.lines.Line2D at 0x2bfcc430ac8>]"
      ]
     },
     "execution_count": 14,
     "metadata": {},
     "output_type": "execute_result"
    },
    {
     "data": {
      "image/png": "[encoded data removed]",
      "text/plain": [
       "<Figure size 432x288 with 1 Axes>"
      ]
     },
     "metadata": {},
     "output_type": "display_data"
    }
   ],
   "source": [
    "plt.plot(results[\"global_contact_reduction\"], res.resid)"
   ]
  },
  {
   "cell_type": "markdown",
   "metadata": {},
   "source": [
    "Not great but will do for now."
   ]
  },
  {
   "cell_type": "code",
   "execution_count": 388,
   "metadata": {},
   "outputs": [],
   "source": [
    "df = pd.DataFrame([res.params], columns = [\"intercept\", \"coef_contact_reduction\", \"coef_contact_reduction**2\"])"
   ]
  },
  {
   "cell_type": "code",
   "execution_count": 389,
   "metadata": {},
   "outputs": [],
   "source": [
    "df.to_excel(\"Data/Reference/OLS_coefficients.xlsx\")"
   ]
  },
  {
   "cell_type": "code",
   "execution_count": 370,
   "metadata": {},
   "outputs": [],
   "source": [
    "a = np.ones(50)\n",
    "b = np.linspace(0, 0.8)\n",
    "c = b**2\n",
    "design = np.array(list(zip(a,b,c)))"
   ]
  },
  {
   "cell_type": "code",
   "execution_count": 374,
   "metadata": {},
   "outputs": [
    {
     "data": {
      "text/plain": [
       "[<matplotlib.lines.Line2D at 0x1e60349dbc8>]"
      ]
     },
     "execution_count": 374,
     "metadata": {},
     "output_type": "execute_result"
    },
    {
     "data": {
      "image/png": "[encoded data removed]",
      "text/plain": [
       "<Figure size 432x288 with 1 Axes>"
      ]
     },
     "metadata": {},
     "output_type": "display_data"
    }
   ],
   "source": [
    "x = np.linspace(0, 0.8)\n",
    "fig, ax = plt.subplots()\n",
    "ax.plot(x, predict.predicted_mean)"
   ]
  },
  {
   "cell_type": "code",
   "execution_count": null,
   "metadata": {},
   "outputs": [],
   "source": []
  }
 ],
 "metadata": {
  "kernelspec": {
   "display_name": "Python 3",
   "language": "python",
   "name": "python3"
  },
  "language_info": {
   "codemirror_mode": {
    "name": "ipython",
    "version": 3
   },
   "file_extension": ".py",
   "mimetype": "text/x-python",
   "name": "python",
   "nbconvert_exporter": "python",
   "pygments_lexer": "ipython3",
   "version": "3.7.6"
  }
 },
 "nbformat": 4,
 "nbformat_minor": 4
}
