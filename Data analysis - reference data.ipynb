{
 "cells": [
  {
   "cell_type": "markdown",
   "metadata": {},
   "source": [
    "# Reference Data"
   ]
  },
  {
   "cell_type": "code",
   "execution_count": 2,
   "metadata": {},
   "outputs": [],
   "source": [
    "import matplotlib.pyplot as plt\n",
    "import numpy as np\n",
    "import pandas as pd\n",
    "from patsy import dmatrices\n",
    "import seaborn as sns\n",
    "import statsmodels as sm\n",
    "import statsmodels.api as sma\n",
    "sns.set()"
   ]
  },
  {
   "cell_type": "markdown",
   "metadata": {},
   "source": [
    "We generate reference data by simulating the epidemic with no contact tracing. Through this, we can gain an understanding of how well contact tracing is able to control the epidemic in terms of a growth rate reduction.\n",
    "\n",
    "This is done using the simulation script - \"Simulate_growth_rates_no_tracing.py\""
   ]
  },
  {
   "cell_type": "code",
   "execution_count": 3,
   "metadata": {},
   "outputs": [],
   "source": [
    "# Import the data\n",
    "reference_data = pd.read_excel(\"Data/Reference/growth_rates_no_tracing.xlsx\", index_col = 0)"
   ]
  },
  {
   "cell_type": "code",
   "execution_count": 4,
   "metadata": {},
   "outputs": [
    {
     "data": {
      "text/html": [
       "<div>\n",
       "<style scoped>\n",
       "    .dataframe tbody tr th:only-of-type {\n",
       "        vertical-align: middle;\n",
       "    }\n",
       "\n",
       "    .dataframe tbody tr th {\n",
       "        vertical-align: top;\n",
       "    }\n",
       "\n",
       "    .dataframe thead th {\n",
       "        text-align: right;\n",
       "    }\n",
       "</style>\n",
       "<table border=\"1\" class=\"dataframe\">\n",
       "  <thead>\n",
       "    <tr style=\"text-align: right;\">\n",
       "      <th></th>\n",
       "      <th>infection_reporting_prob</th>\n",
       "      <th>global_contact_reduction</th>\n",
       "      <th>0</th>\n",
       "      <th>1</th>\n",
       "      <th>2</th>\n",
       "      <th>3</th>\n",
       "      <th>4</th>\n",
       "      <th>5</th>\n",
       "      <th>6</th>\n",
       "      <th>7</th>\n",
       "      <th>...</th>\n",
       "      <th>10</th>\n",
       "      <th>11</th>\n",
       "      <th>12</th>\n",
       "      <th>13</th>\n",
       "      <th>14</th>\n",
       "      <th>15</th>\n",
       "      <th>16</th>\n",
       "      <th>17</th>\n",
       "      <th>18</th>\n",
       "      <th>19</th>\n",
       "    </tr>\n",
       "  </thead>\n",
       "  <tbody>\n",
       "    <tr>\n",
       "      <th>0</th>\n",
       "      <td>0.1</td>\n",
       "      <td>0.0</td>\n",
       "      <td>5000</td>\n",
       "      <td>5090</td>\n",
       "      <td>5614</td>\n",
       "      <td>6966</td>\n",
       "      <td>9314</td>\n",
       "      <td>12544</td>\n",
       "      <td>16728</td>\n",
       "      <td>21782</td>\n",
       "      <td>...</td>\n",
       "      <td>44978</td>\n",
       "      <td>56982</td>\n",
       "      <td>71513</td>\n",
       "      <td>89730</td>\n",
       "      <td>112513</td>\n",
       "      <td>140947</td>\n",
       "      <td>176274</td>\n",
       "      <td>220376</td>\n",
       "      <td>275081</td>\n",
       "      <td>342810</td>\n",
       "    </tr>\n",
       "    <tr>\n",
       "      <th>1</th>\n",
       "      <td>0.2</td>\n",
       "      <td>0.0</td>\n",
       "      <td>5000</td>\n",
       "      <td>5082</td>\n",
       "      <td>5605</td>\n",
       "      <td>6998</td>\n",
       "      <td>9262</td>\n",
       "      <td>12678</td>\n",
       "      <td>17006</td>\n",
       "      <td>22103</td>\n",
       "      <td>...</td>\n",
       "      <td>45563</td>\n",
       "      <td>57614</td>\n",
       "      <td>72529</td>\n",
       "      <td>91487</td>\n",
       "      <td>114722</td>\n",
       "      <td>143590</td>\n",
       "      <td>179834</td>\n",
       "      <td>225231</td>\n",
       "      <td>281049</td>\n",
       "      <td>351064</td>\n",
       "    </tr>\n",
       "    <tr>\n",
       "      <th>2</th>\n",
       "      <td>0.3</td>\n",
       "      <td>0.0</td>\n",
       "      <td>5000</td>\n",
       "      <td>5074</td>\n",
       "      <td>5607</td>\n",
       "      <td>7020</td>\n",
       "      <td>9450</td>\n",
       "      <td>12925</td>\n",
       "      <td>17374</td>\n",
       "      <td>22738</td>\n",
       "      <td>...</td>\n",
       "      <td>47274</td>\n",
       "      <td>59865</td>\n",
       "      <td>75773</td>\n",
       "      <td>95595</td>\n",
       "      <td>120038</td>\n",
       "      <td>150585</td>\n",
       "      <td>188737</td>\n",
       "      <td>235943</td>\n",
       "      <td>295329</td>\n",
       "      <td>368844</td>\n",
       "    </tr>\n",
       "    <tr>\n",
       "      <th>3</th>\n",
       "      <td>0.4</td>\n",
       "      <td>0.0</td>\n",
       "      <td>5000</td>\n",
       "      <td>5090</td>\n",
       "      <td>5632</td>\n",
       "      <td>7068</td>\n",
       "      <td>9523</td>\n",
       "      <td>12978</td>\n",
       "      <td>17298</td>\n",
       "      <td>22498</td>\n",
       "      <td>...</td>\n",
       "      <td>46551</td>\n",
       "      <td>58945</td>\n",
       "      <td>74331</td>\n",
       "      <td>93373</td>\n",
       "      <td>117227</td>\n",
       "      <td>147225</td>\n",
       "      <td>184407</td>\n",
       "      <td>231024</td>\n",
       "      <td>288912</td>\n",
       "      <td>361612</td>\n",
       "    </tr>\n",
       "    <tr>\n",
       "      <th>4</th>\n",
       "      <td>0.5</td>\n",
       "      <td>0.0</td>\n",
       "      <td>5000</td>\n",
       "      <td>5088</td>\n",
       "      <td>5641</td>\n",
       "      <td>7052</td>\n",
       "      <td>9546</td>\n",
       "      <td>13012</td>\n",
       "      <td>17495</td>\n",
       "      <td>22805</td>\n",
       "      <td>...</td>\n",
       "      <td>47497</td>\n",
       "      <td>60134</td>\n",
       "      <td>75945</td>\n",
       "      <td>95205</td>\n",
       "      <td>119468</td>\n",
       "      <td>149595</td>\n",
       "      <td>187057</td>\n",
       "      <td>233807</td>\n",
       "      <td>292640</td>\n",
       "      <td>365540</td>\n",
       "    </tr>\n",
       "    <tr>\n",
       "      <th>...</th>\n",
       "      <td>...</td>\n",
       "      <td>...</td>\n",
       "      <td>...</td>\n",
       "      <td>...</td>\n",
       "      <td>...</td>\n",
       "      <td>...</td>\n",
       "      <td>...</td>\n",
       "      <td>...</td>\n",
       "      <td>...</td>\n",
       "      <td>...</td>\n",
       "      <td>...</td>\n",
       "      <td>...</td>\n",
       "      <td>...</td>\n",
       "      <td>...</td>\n",
       "      <td>...</td>\n",
       "      <td>...</td>\n",
       "      <td>...</td>\n",
       "      <td>...</td>\n",
       "      <td>...</td>\n",
       "      <td>...</td>\n",
       "      <td>...</td>\n",
       "    </tr>\n",
       "    <tr>\n",
       "      <th>445</th>\n",
       "      <td>0.5</td>\n",
       "      <td>0.9</td>\n",
       "      <td>5000</td>\n",
       "      <td>5022</td>\n",
       "      <td>5145</td>\n",
       "      <td>5429</td>\n",
       "      <td>5866</td>\n",
       "      <td>6458</td>\n",
       "      <td>7025</td>\n",
       "      <td>7507</td>\n",
       "      <td>...</td>\n",
       "      <td>8400</td>\n",
       "      <td>8628</td>\n",
       "      <td>8798</td>\n",
       "      <td>8919</td>\n",
       "      <td>9052</td>\n",
       "      <td>9139</td>\n",
       "      <td>9221</td>\n",
       "      <td>9287</td>\n",
       "      <td>9336</td>\n",
       "      <td>9375</td>\n",
       "    </tr>\n",
       "    <tr>\n",
       "      <th>446</th>\n",
       "      <td>0.6</td>\n",
       "      <td>0.9</td>\n",
       "      <td>5000</td>\n",
       "      <td>5017</td>\n",
       "      <td>5145</td>\n",
       "      <td>5459</td>\n",
       "      <td>5957</td>\n",
       "      <td>6505</td>\n",
       "      <td>7099</td>\n",
       "      <td>7545</td>\n",
       "      <td>...</td>\n",
       "      <td>8475</td>\n",
       "      <td>8670</td>\n",
       "      <td>8853</td>\n",
       "      <td>8998</td>\n",
       "      <td>9113</td>\n",
       "      <td>9209</td>\n",
       "      <td>9283</td>\n",
       "      <td>9341</td>\n",
       "      <td>9387</td>\n",
       "      <td>9423</td>\n",
       "    </tr>\n",
       "    <tr>\n",
       "      <th>447</th>\n",
       "      <td>0.7</td>\n",
       "      <td>0.9</td>\n",
       "      <td>5000</td>\n",
       "      <td>5018</td>\n",
       "      <td>5164</td>\n",
       "      <td>5466</td>\n",
       "      <td>5933</td>\n",
       "      <td>6487</td>\n",
       "      <td>7060</td>\n",
       "      <td>7493</td>\n",
       "      <td>...</td>\n",
       "      <td>8309</td>\n",
       "      <td>8494</td>\n",
       "      <td>8638</td>\n",
       "      <td>8765</td>\n",
       "      <td>8866</td>\n",
       "      <td>8933</td>\n",
       "      <td>8995</td>\n",
       "      <td>9049</td>\n",
       "      <td>9092</td>\n",
       "      <td>9128</td>\n",
       "    </tr>\n",
       "    <tr>\n",
       "      <th>448</th>\n",
       "      <td>0.8</td>\n",
       "      <td>0.9</td>\n",
       "      <td>5000</td>\n",
       "      <td>5021</td>\n",
       "      <td>5124</td>\n",
       "      <td>5432</td>\n",
       "      <td>5946</td>\n",
       "      <td>6543</td>\n",
       "      <td>7104</td>\n",
       "      <td>7598</td>\n",
       "      <td>...</td>\n",
       "      <td>8373</td>\n",
       "      <td>8538</td>\n",
       "      <td>8680</td>\n",
       "      <td>8811</td>\n",
       "      <td>8910</td>\n",
       "      <td>8985</td>\n",
       "      <td>9037</td>\n",
       "      <td>9081</td>\n",
       "      <td>9128</td>\n",
       "      <td>9157</td>\n",
       "    </tr>\n",
       "    <tr>\n",
       "      <th>449</th>\n",
       "      <td>0.9</td>\n",
       "      <td>0.9</td>\n",
       "      <td>5000</td>\n",
       "      <td>5018</td>\n",
       "      <td>5141</td>\n",
       "      <td>5460</td>\n",
       "      <td>5988</td>\n",
       "      <td>6607</td>\n",
       "      <td>7159</td>\n",
       "      <td>7630</td>\n",
       "      <td>...</td>\n",
       "      <td>8422</td>\n",
       "      <td>8592</td>\n",
       "      <td>8747</td>\n",
       "      <td>8854</td>\n",
       "      <td>8941</td>\n",
       "      <td>8996</td>\n",
       "      <td>9054</td>\n",
       "      <td>9103</td>\n",
       "      <td>9125</td>\n",
       "      <td>9161</td>\n",
       "    </tr>\n",
       "  </tbody>\n",
       "</table>\n",
       "<p>450 rows × 22 columns</p>\n",
       "</div>"
      ],
      "text/plain": [
       "     infection_reporting_prob  global_contact_reduction     0     1     2  \\\n",
       "0                         0.1                       0.0  5000  5090  5614   \n",
       "1                         0.2                       0.0  5000  5082  5605   \n",
       "2                         0.3                       0.0  5000  5074  5607   \n",
       "3                         0.4                       0.0  5000  5090  5632   \n",
       "4                         0.5                       0.0  5000  5088  5641   \n",
       "..                        ...                       ...   ...   ...   ...   \n",
       "445                       0.5                       0.9  5000  5022  5145   \n",
       "446                       0.6                       0.9  5000  5017  5145   \n",
       "447                       0.7                       0.9  5000  5018  5164   \n",
       "448                       0.8                       0.9  5000  5021  5124   \n",
       "449                       0.9                       0.9  5000  5018  5141   \n",
       "\n",
       "        3     4      5      6      7  ...     10     11     12     13      14  \\\n",
       "0    6966  9314  12544  16728  21782  ...  44978  56982  71513  89730  112513   \n",
       "1    6998  9262  12678  17006  22103  ...  45563  57614  72529  91487  114722   \n",
       "2    7020  9450  12925  17374  22738  ...  47274  59865  75773  95595  120038   \n",
       "3    7068  9523  12978  17298  22498  ...  46551  58945  74331  93373  117227   \n",
       "4    7052  9546  13012  17495  22805  ...  47497  60134  75945  95205  119468   \n",
       "..    ...   ...    ...    ...    ...  ...    ...    ...    ...    ...     ...   \n",
       "445  5429  5866   6458   7025   7507  ...   8400   8628   8798   8919    9052   \n",
       "446  5459  5957   6505   7099   7545  ...   8475   8670   8853   8998    9113   \n",
       "447  5466  5933   6487   7060   7493  ...   8309   8494   8638   8765    8866   \n",
       "448  5432  5946   6543   7104   7598  ...   8373   8538   8680   8811    8910   \n",
       "449  5460  5988   6607   7159   7630  ...   8422   8592   8747   8854    8941   \n",
       "\n",
       "         15      16      17      18      19  \n",
       "0    140947  176274  220376  275081  342810  \n",
       "1    143590  179834  225231  281049  351064  \n",
       "2    150585  188737  235943  295329  368844  \n",
       "3    147225  184407  231024  288912  361612  \n",
       "4    149595  187057  233807  292640  365540  \n",
       "..      ...     ...     ...     ...     ...  \n",
       "445    9139    9221    9287    9336    9375  \n",
       "446    9209    9283    9341    9387    9423  \n",
       "447    8933    8995    9049    9092    9128  \n",
       "448    8985    9037    9081    9128    9157  \n",
       "449    8996    9054    9103    9125    9161  \n",
       "\n",
       "[450 rows x 22 columns]"
      ]
     },
     "execution_count": 4,
     "metadata": {},
     "output_type": "execute_result"
    }
   ],
   "source": [
    "reference_data"
   ]
  },
  {
   "cell_type": "code",
   "execution_count": 5,
   "metadata": {},
   "outputs": [],
   "source": [
    "# Create variable for easy subsetting of column counts\n",
    "infection_count_col_names = [str(i) for i in range(20)]"
   ]
  },
  {
   "cell_type": "code",
   "execution_count": 6,
   "metadata": {},
   "outputs": [],
   "source": [
    "data_subset = reference_data[infection_count_col_names]"
   ]
  },
  {
   "cell_type": "code",
   "execution_count": 7,
   "metadata": {},
   "outputs": [
    {
     "name": "stdout",
     "output_type": "stream",
     "text": [
      "current fit; 449\r"
     ]
    }
   ],
   "source": [
    "# Fitting OLS regressions to estimate the growth rate\n",
    "growth_rates = []\n",
    "\n",
    "# Loop over rows\n",
    "for _ in range(data_subset.shape[0]):\n",
    "    \n",
    "    print(f\"current fit; {_}\", end = \"\\r\")\n",
    "    \n",
    "    # Difference to get the incidence and take the log to get the growth\n",
    "    log_diff = data_subset.iloc[_].diff(1).apply(lambda x: np.log(x))\n",
    "\n",
    "    # make a dataframe\n",
    "    data_set_up = {\n",
    "        \"log_case_incidence\": log_diff[10:20],\n",
    "        \"time\": list(range(10, 20))\n",
    "    }\n",
    "    dataframe = pd.DataFrame(data_set_up)\n",
    "    \n",
    "    # Create design matrix and regress\n",
    "    y, X = dmatrices('log_case_incidence ~ time', \n",
    "                     data = dataframe)\n",
    "    model = sma.RLM(y, X)\n",
    "    res = model.fit()\n",
    "    growth_rates.append(res.params[1])\n",
    "\n",
    "    # If the initial starting value of the epidemic is not high enough you can get missing data\n",
    "    if res.params[1] == -float(\"inf\"):\n",
    "        print(f\"missing data in line {_}\")"
   ]
  },
  {
   "cell_type": "code",
   "execution_count": 8,
   "metadata": {},
   "outputs": [
    {
     "data": {
      "text/plain": [
       "Text(0, 0.5, 'Frequency')"
      ]
     },
     "execution_count": 8,
     "metadata": {},
     "output_type": "execute_result"
    },
    {
     "data": {
      "image/png": "[encoded data removed]",
      "text/plain": [
       "<Figure size 432x288 with 1 Axes>"
      ]
     },
     "metadata": {},
     "output_type": "display_data"
    }
   ],
   "source": [
    "sns.distplot(growth_rates)\n",
    "plt.title(\"Growth Rate Distribution\")\n",
    "plt.xlabel(\"Growth Rates\")\n",
    "plt.ylabel(\"Frequency\")"
   ]
  },
  {
   "cell_type": "code",
   "execution_count": 9,
   "metadata": {},
   "outputs": [],
   "source": [
    "results = reference_data[[\"global_contact_reduction\", \"infection_reporting_prob\"]]"
   ]
  },
  {
   "cell_type": "code",
   "execution_count": 10,
   "metadata": {},
   "outputs": [
    {
     "name": "stderr",
     "output_type": "stream",
     "text": [
      "C:\\Users\\mfyles\\Anaconda3\\lib\\site-packages\\ipykernel_launcher.py:1: SettingWithCopyWarning: \n",
      "A value is trying to be set on a copy of a slice from a DataFrame.\n",
      "Try using .loc[row_indexer,col_indexer] = value instead\n",
      "\n",
      "See the caveats in the documentation: https://pandas.pydata.org/pandas-docs/stable/user_guide/indexing.html#returning-a-view-versus-a-copy\n",
      "  \"\"\"Entry point for launching an IPython kernel.\n"
     ]
    }
   ],
   "source": [
    "results[\"growth_rate\"] = pd.Series(growth_rates)"
   ]
  },
  {
   "cell_type": "markdown",
   "metadata": {},
   "source": [
    "Create a data table of the observed growth rate and "
   ]
  },
  {
   "cell_type": "code",
   "execution_count": 11,
   "metadata": {},
   "outputs": [
    {
     "data": {
      "text/html": [
       "<div>\n",
       "<style scoped>\n",
       "    .dataframe tbody tr th:only-of-type {\n",
       "        vertical-align: middle;\n",
       "    }\n",
       "\n",
       "    .dataframe tbody tr th {\n",
       "        vertical-align: top;\n",
       "    }\n",
       "\n",
       "    .dataframe thead th {\n",
       "        text-align: right;\n",
       "    }\n",
       "</style>\n",
       "<table border=\"1\" class=\"dataframe\">\n",
       "  <thead>\n",
       "    <tr style=\"text-align: right;\">\n",
       "      <th></th>\n",
       "      <th>global_contact_reduction</th>\n",
       "      <th>infection_reporting_prob</th>\n",
       "      <th>growth_rate</th>\n",
       "    </tr>\n",
       "  </thead>\n",
       "  <tbody>\n",
       "    <tr>\n",
       "      <th>0</th>\n",
       "      <td>0.0</td>\n",
       "      <td>0.1</td>\n",
       "      <td>0.218568</td>\n",
       "    </tr>\n",
       "    <tr>\n",
       "      <th>1</th>\n",
       "      <td>0.0</td>\n",
       "      <td>0.2</td>\n",
       "      <td>0.220847</td>\n",
       "    </tr>\n",
       "    <tr>\n",
       "      <th>2</th>\n",
       "      <td>0.0</td>\n",
       "      <td>0.3</td>\n",
       "      <td>0.220671</td>\n",
       "    </tr>\n",
       "    <tr>\n",
       "      <th>3</th>\n",
       "      <td>0.0</td>\n",
       "      <td>0.4</td>\n",
       "      <td>0.220804</td>\n",
       "    </tr>\n",
       "    <tr>\n",
       "      <th>4</th>\n",
       "      <td>0.0</td>\n",
       "      <td>0.5</td>\n",
       "      <td>0.218835</td>\n",
       "    </tr>\n",
       "    <tr>\n",
       "      <th>...</th>\n",
       "      <td>...</td>\n",
       "      <td>...</td>\n",
       "      <td>...</td>\n",
       "    </tr>\n",
       "    <tr>\n",
       "      <th>445</th>\n",
       "      <td>0.9</td>\n",
       "      <td>0.5</td>\n",
       "      <td>-0.203700</td>\n",
       "    </tr>\n",
       "    <tr>\n",
       "      <th>446</th>\n",
       "      <td>0.9</td>\n",
       "      <td>0.6</td>\n",
       "      <td>-0.224432</td>\n",
       "    </tr>\n",
       "    <tr>\n",
       "      <th>447</th>\n",
       "      <td>0.9</td>\n",
       "      <td>0.7</td>\n",
       "      <td>-0.198868</td>\n",
       "    </tr>\n",
       "    <tr>\n",
       "      <th>448</th>\n",
       "      <td>0.9</td>\n",
       "      <td>0.8</td>\n",
       "      <td>-0.214557</td>\n",
       "    </tr>\n",
       "    <tr>\n",
       "      <th>449</th>\n",
       "      <td>0.9</td>\n",
       "      <td>0.9</td>\n",
       "      <td>-0.205071</td>\n",
       "    </tr>\n",
       "  </tbody>\n",
       "</table>\n",
       "<p>450 rows × 3 columns</p>\n",
       "</div>"
      ],
      "text/plain": [
       "     global_contact_reduction  infection_reporting_prob  growth_rate\n",
       "0                         0.0                       0.1     0.218568\n",
       "1                         0.0                       0.2     0.220847\n",
       "2                         0.0                       0.3     0.220671\n",
       "3                         0.0                       0.4     0.220804\n",
       "4                         0.0                       0.5     0.218835\n",
       "..                        ...                       ...          ...\n",
       "445                       0.9                       0.5    -0.203700\n",
       "446                       0.9                       0.6    -0.224432\n",
       "447                       0.9                       0.7    -0.198868\n",
       "448                       0.9                       0.8    -0.214557\n",
       "449                       0.9                       0.9    -0.205071\n",
       "\n",
       "[450 rows x 3 columns]"
      ]
     },
     "execution_count": 11,
     "metadata": {},
     "output_type": "execute_result"
    }
   ],
   "source": [
    "results"
   ]
  },
  {
   "cell_type": "code",
   "execution_count": 12,
   "metadata": {},
   "outputs": [
    {
     "data": {
      "text/plain": [
       "Text(0.5, 0, '% reduction in global contacts')"
      ]
     },
     "execution_count": 12,
     "metadata": {},
     "output_type": "execute_result"
    },
    {
     "data": {
      "image/png": "[encoded data removed]",
      "text/plain": [
       "<Figure size 432x288 with 1 Axes>"
      ]
     },
     "metadata": {},
     "output_type": "display_data"
    }
   ],
   "source": [
    "for infection_report_value in [0.1, 0.2, 0.3, 0.4, 0.5, 0.6, 0.7, 0.8, 0.9]:\n",
    "    \n",
    "    subset = results[results[\"infection_reporting_prob\"] == infection_report_value]\n",
    "    \n",
    "    plt.plot(\"global_contact_reduction\", \"growth_rate\", data = subset)\n",
    "    \n",
    "plt.title(\"Growth rate of epidemics, no tracing\")\n",
    "\n",
    "plt.xlabel(\"% reduction in global contacts\")"
   ]
  },
  {
   "cell_type": "markdown",
   "metadata": {},
   "source": [
    "There's some pretty clear heteroscedasticity in the results. We estimate the mean growth rate using robust linear regression to cope with it (I tried iteratively reweighted least squares but can't figure it out at the moment)."
   ]
  },
  {
   "cell_type": "code",
   "execution_count": 13,
   "metadata": {},
   "outputs": [
    {
     "name": "stdout",
     "output_type": "stream",
     "text": [
      "                    Robust linear Model Regression Results                    \n",
      "==============================================================================\n",
      "Dep. Variable:            growth_rate   No. Observations:                  450\n",
      "Model:                            RLM   Df Residuals:                      447\n",
      "Method:                          IRLS   Df Model:                            2\n",
      "Norm:                          HuberT                                         \n",
      "Scale Est.:                       mad                                         \n",
      "Cov Type:                          H1                                         \n",
      "Date:                Mon, 11 May 2020                                         \n",
      "Time:                        14:07:59                                         \n",
      "No. Iterations:                    39                                         \n",
      "====================================================================================================\n",
      "                                       coef    std err          z      P>|z|      [0.025      0.975]\n",
      "----------------------------------------------------------------------------------------------------\n",
      "Intercept                            0.2137      0.001    162.091      0.000       0.211       0.216\n",
      "global_contact_reduction            -0.1529      0.007    -22.572      0.000      -0.166      -0.140\n",
      "I(global_contact_reduction ** 2)    -0.2892      0.007    -39.728      0.000      -0.304      -0.275\n",
      "====================================================================================================\n",
      "\n",
      "If the model instance has been used for another fit with different fit parameters, then the fit options might not be the correct ones anymore .\n"
     ]
    }
   ],
   "source": [
    "y, X = dmatrices('growth_rate ~ global_contact_reduction + I(global_contact_reduction**2)',\n",
    "                 data = results)\n",
    "model = sma.RLM(y, X)\n",
    "res = model.fit()\n",
    "print(res.summary())\n",
    "#sm.graphics.regressionplots.plot_fit(res, \"global_contact_reduction\")"
   ]
  },
  {
   "cell_type": "code",
   "execution_count": 14,
   "metadata": {},
   "outputs": [
    {
     "data": {
      "text/plain": [
       "[<matplotlib.lines.Line2D at 0x2bfcc430ac8>]"
      ]
     },
     "execution_count": 14,
     "metadata": {},
     "output_type": "execute_result"
    },
    {
     "data": {
      "image/png": "[encoded data removed]",
      "text/plain": [
       "<Figure size 432x288 with 1 Axes>"
      ]
     },
     "metadata": {},
     "output_type": "display_data"
    }
   ],
   "source": [
    "plt.plot(results[\"global_contact_reduction\"], res.resid)"
   ]
  },
  {
   "cell_type": "markdown",
   "metadata": {},
   "source": [
    "Not great but will do for now."
   ]
  },
  {
   "cell_type": "code",
   "execution_count": 15,
   "metadata": {},
   "outputs": [
    {
     "name": "stdout",
     "output_type": "stream",
     "text": [
      "                    Robust linear Model Regression Results                    \n",
      "==============================================================================\n",
      "Dep. Variable:            growth_rate   No. Observations:                  450\n",
      "Model:                            RLM   Df Residuals:                      447\n",
      "Method:                          IRLS   Df Model:                            2\n",
      "Norm:                          HuberT                                         \n",
      "Scale Est.:                       mad                                         \n",
      "Cov Type:                          H1                                         \n",
      "Date:                Mon, 11 May 2020                                         \n",
      "Time:                        14:08:25                                         \n",
      "No. Iterations:                    39                                         \n",
      "====================================================================================================\n",
      "                                       coef    std err          z      P>|z|      [0.025      0.975]\n",
      "----------------------------------------------------------------------------------------------------\n",
      "Intercept                            0.2137      0.001    162.091      0.000       0.211       0.216\n",
      "global_contact_reduction            -0.1529      0.007    -22.572      0.000      -0.166      -0.140\n",
      "I(global_contact_reduction ** 2)    -0.2892      0.007    -39.728      0.000      -0.304      -0.275\n",
      "====================================================================================================\n",
      "\n",
      "If the model instance has been used for another fit with different fit parameters, then the fit options might not be the correct ones anymore .\n"
     ]
    },
    {
     "name": "stderr",
     "output_type": "stream",
     "text": [
      "C:\\Users\\mfyles\\Anaconda3\\lib\\site-packages\\ipykernel_launcher.py:1: SettingWithCopyWarning: \n",
      "A value is trying to be set on a copy of a slice from a DataFrame.\n",
      "Try using .loc[row_indexer,col_indexer] = value instead\n",
      "\n",
      "See the caveats in the documentation: https://pandas.pydata.org/pandas-docs/stable/user_guide/indexing.html#returning-a-view-versus-a-copy\n",
      "  \"\"\"Entry point for launching an IPython kernel.\n"
     ]
    }
   ],
   "source": [
    "results[\"OLS_resid\"] = abs(res.resid)\n",
    "y, X = dmatrices('growth_rate ~ global_contact_reduction + I(global_contact_reduction**2)',\n",
    "                 data = results)\n",
    "model_2 = sma.RecursiveLS(y, X)\n",
    "res_2 = model_2.fit()\n",
    "print(res.summary())"
   ]
  },
  {
   "cell_type": "code",
   "execution_count": 16,
   "metadata": {},
   "outputs": [
    {
     "data": {
      "text/plain": [
       "[<matplotlib.lines.Line2D at 0x2bfcc917188>]"
      ]
     },
     "execution_count": 16,
     "metadata": {},
     "output_type": "execute_result"
    },
    {
     "data": {
      "image/png": "[encoded data removed]",
      "text/plain": [
       "<Figure size 432x288 with 1 Axes>"
      ]
     },
     "metadata": {},
     "output_type": "display_data"
    }
   ],
   "source": [
    "plt.plot(results[\"global_contact_reduction\"], res_2.resid)"
   ]
  },
  {
   "cell_type": "code",
   "execution_count": 17,
   "metadata": {},
   "outputs": [
    {
     "data": {
      "text/plain": [
       "array([ 2.18568411e-01,  2.27857127e-03,  9.63587939e-04,  7.74746984e-04,\n",
       "       -1.38734676e-03,  3.38448794e-05,  3.98757752e-04,  1.28377589e-03,\n",
       "       -6.25540109e-04, -2.51026072e-03,  1.25188046e-03,  1.35447023e-03,\n",
       "        1.49972462e-03,  1.56277421e-04,  1.43263432e-03, -1.46694316e-03,\n",
       "       -6.44052702e-04, -9.49692742e-04, -5.41479172e-03, -2.53767339e-04,\n",
       "        1.00833883e-03,  1.59548436e-04,  1.54495624e-03,  9.15095077e-05,\n",
       "        6.78208618e-04,  7.48985538e-05, -6.37825709e-04,  5.90246442e-03,\n",
       "       -3.26109161e-04,  2.22591439e-03,  1.94875265e-03,  1.29929227e-03,\n",
       "        4.86573405e-04, -6.14382494e-04, -7.24015918e-04, -8.73508088e-04,\n",
       "        3.00695183e-03,  3.65078399e-03,  2.25551669e-03,  1.67144388e-03,\n",
       "        5.16444317e-05, -9.77172428e-04,  4.37449107e-04, -1.82277082e-03,\n",
       "       -2.98156882e-03,  4.55779673e-03,  3.76469917e-03,  2.96995631e-03,\n",
       "        2.86071446e-03,  2.38350592e-03,  6.22111804e-04, -9.79048995e-04,\n",
       "       -1.39242319e-03, -1.95159076e-03,  3.27089190e-03,  2.03080328e-03,\n",
       "        9.92486379e-04, -7.66225718e-04,  8.43500762e-04,  3.94300121e-04,\n",
       "       -2.32661105e-03, -1.83990183e-03, -2.75319358e-03,  5.14687132e-03,\n",
       "        1.89949076e-03,  1.67208119e-03,  1.45880773e-03,  3.65405995e-04,\n",
       "        1.00114412e-04, -9.74799636e-04, -2.63485649e-03, -2.19318733e-03,\n",
       "        3.35836889e-03,  2.71146011e-03,  2.15430644e-03,  3.55800703e-03,\n",
       "        1.39509498e-03,  1.22617498e-03,  1.76096112e-04, -1.77206182e-03,\n",
       "       -4.74278704e-03,  4.87708526e-03,  3.04890212e-03,  1.76357527e-03,\n",
       "        5.50325687e-04,  1.45028201e-03,  1.61125328e-03, -9.92450135e-04,\n",
       "       -1.71340792e-03, -4.38099405e-03,  1.33423707e-03,  1.74912125e-03,\n",
       "        9.90988295e-04, -1.04334480e-03, -1.16513020e-03, -2.71094775e-03,\n",
       "       -2.10898190e-03, -4.42316523e-03, -5.40799396e-03,  2.51531130e-03,\n",
       "        1.97520582e-03, -7.65295247e-04,  1.83174093e-04, -4.96557370e-04,\n",
       "       -3.94275574e-04, -1.72997225e-03, -3.66227699e-03, -5.45839669e-03,\n",
       "        1.41358324e-03,  3.93784357e-04,  1.35486085e-03, -3.22507245e-04,\n",
       "        3.85354413e-04, -2.93914003e-03, -4.33512051e-03, -4.33073434e-03,\n",
       "       -7.13102408e-03,  4.58763185e-03,  2.72523348e-03,  6.75761844e-04,\n",
       "        1.59650949e-03, -1.28959766e-03, -1.87745194e-03, -2.62151030e-03,\n",
       "       -2.03729990e-03, -4.97114778e-03,  2.05561330e-03,  4.92294828e-04,\n",
       "        1.86739417e-03,  1.21529309e-03, -1.37401373e-03, -3.07679568e-03,\n",
       "       -3.48903364e-03, -5.68810653e-03, -7.97774214e-03,  5.17654333e-03,\n",
       "        2.80310950e-03,  3.49684981e-03,  2.70739570e-04, -5.49655474e-04,\n",
       "       -4.02570682e-03, -2.55258585e-03, -2.14926321e-03, -5.16048242e-03,\n",
       "        3.78385098e-03,  2.99422564e-03,  2.62569153e-03,  1.14369929e-03,\n",
       "       -1.42793310e-04, -7.36489590e-04, -2.00008741e-03, -2.41081426e-03,\n",
       "       -6.80579241e-03,  6.53356824e-04,  3.55252947e-03,  1.34676880e-03,\n",
       "        2.98313045e-03,  8.48435597e-04, -5.94922291e-04, -4.45227070e-03,\n",
       "       -3.04737399e-03, -6.78341432e-03,  5.86113882e-03,  4.30252540e-03,\n",
       "        1.41892266e-03,  6.00074172e-04, -2.93386950e-03, -2.90422424e-03,\n",
       "       -7.05587591e-03, -7.35937758e-03, -8.53497960e-03,  5.19599214e-03,\n",
       "        4.09324971e-03,  2.91729573e-03,  3.68436295e-03, -7.70476407e-04,\n",
       "       -1.15023463e-03, -2.02658529e-03, -1.47915141e-03, -6.40752166e-03,\n",
       "        6.11165545e-03,  5.18508835e-03,  2.80559574e-03,  3.25906904e-04,\n",
       "        3.10031699e-03, -2.76240801e-03, -3.68472606e-03, -6.53630480e-03,\n",
       "       -8.00845274e-03,  5.49524634e-03,  5.23583581e-03,  1.90450763e-03,\n",
       "        3.64329031e-03, -2.21820298e-03, -7.53653625e-04, -5.15592761e-03,\n",
       "       -1.09322971e-02, -1.19997942e-02,  4.91505501e-03,  6.40627373e-03,\n",
       "        2.07789097e-03,  9.42858262e-04,  2.19878937e-03, -6.95629035e-04,\n",
       "       -4.24637803e-03, -8.11930115e-03, -8.51162184e-03,  8.36430911e-03,\n",
       "        4.82721442e-03, -8.09439755e-04,  2.05304790e-03, -2.38045261e-03,\n",
       "       -4.77865650e-03, -3.95121911e-03, -8.30935158e-03, -1.24764304e-02,\n",
       "        3.79231104e-03,  4.09963254e-03,  2.46302551e-03,  2.12121270e-03,\n",
       "       -1.08857589e-03,  7.43754152e-04, -2.28378197e-03, -3.61743888e-03,\n",
       "       -1.31017300e-02,  7.88853444e-03,  4.38152248e-03,  4.18595986e-03,\n",
       "        2.16144162e-03,  1.55716376e-03, -4.45878656e-03, -1.62820143e-03,\n",
       "       -1.30202769e-02, -1.34177801e-02,  8.08806433e-03,  3.19434561e-03,\n",
       "        2.88329832e-03,  4.82802866e-03,  1.17157325e-03, -3.77144900e-03,\n",
       "       -3.11773307e-03, -9.12900248e-03, -1.20058834e-02,  1.17568754e-02,\n",
       "        9.90257070e-03,  8.48607569e-03,  8.06844273e-03,  5.73612216e-03,\n",
       "        1.87106886e-03, -3.00598701e-03, -2.64260795e-03, -6.59743196e-03,\n",
       "        8.16378612e-04,  1.46214749e-03, -1.24693409e-03, -3.81784991e-03,\n",
       "       -3.64775746e-03, -7.88476826e-03, -1.26678165e-02, -1.28589893e-02,\n",
       "       -2.14617097e-02,  5.19964896e-03,  3.90810459e-03, -9.35454337e-04,\n",
       "        4.59169927e-03, -1.77459376e-03, -6.84045373e-03, -1.25537982e-02,\n",
       "       -1.66685085e-02, -1.96207563e-02,  8.59960029e-03,  4.10114898e-03,\n",
       "        4.03047170e-03,  6.08397809e-04, -1.46866983e-03, -3.33518120e-03,\n",
       "       -5.31912716e-03, -1.05513666e-02, -1.51409879e-02,  1.08983230e-02,\n",
       "        6.05813616e-03,  3.61366033e-03,  9.84041570e-04, -5.40003731e-04,\n",
       "       -6.84646842e-03, -1.04651723e-02, -1.98544251e-02, -1.74123070e-02,\n",
       "        1.14299816e-02,  8.34403643e-03,  4.23465117e-03,  3.11609410e-03,\n",
       "       -2.67822108e-03, -1.27154234e-03, -1.06944827e-02, -1.44549984e-02,\n",
       "       -1.98676175e-02,  9.89334624e-03,  9.10142485e-03,  1.10049653e-02,\n",
       "       -2.48999227e-03,  6.42637152e-04, -3.60123375e-04, -6.65764587e-03,\n",
       "       -1.70076570e-02, -2.06032001e-02,  1.59971014e-02,  1.11162088e-02,\n",
       "        4.49735777e-03,  7.25983911e-03, -4.16738665e-03, -8.54153953e-03,\n",
       "       -1.02151717e-02, -1.63073576e-02, -1.86883435e-02,  9.09697558e-03,\n",
       "        6.72801152e-03, -1.78775779e-03, -2.01559053e-03, -6.56887372e-03,\n",
       "       -9.32717256e-03, -1.68460978e-02, -2.72534743e-02, -2.01620031e-02,\n",
       "        7.66349776e-03,  6.77581061e-03,  5.75677000e-03,  3.87928950e-03,\n",
       "        4.10984363e-04, -9.84427554e-03, -1.58687343e-02, -2.02138543e-02,\n",
       "       -2.75708319e-02,  9.18305565e-03,  9.07798693e-03, -8.48776425e-04,\n",
       "        4.76813265e-03, -2.05549504e-03, -1.12902471e-02, -1.54537620e-02,\n",
       "       -1.88043476e-02, -3.03879528e-02,  1.40486179e-02,  1.49245910e-02,\n",
       "        9.20904287e-03,  6.38576087e-03, -8.36051071e-03, -6.58287635e-03,\n",
       "       -1.33418082e-02, -1.87393352e-02, -2.81420663e-02,  1.50171538e-02,\n",
       "        1.20270240e-02, -4.14733642e-04,  1.76204403e-03, -8.62629409e-03,\n",
       "       -1.17098969e-02, -1.23508611e-02, -7.45596870e-03, -2.17037704e-02,\n",
       "        1.57890607e-02,  9.87210347e-03,  3.76321818e-03,  3.87238852e-04,\n",
       "        5.89725570e-03, -9.79254194e-03, -1.90786312e-02, -1.98964284e-02,\n",
       "       -1.38127544e-02,  1.12981325e-02,  3.06093046e-03, -3.11176068e-03,\n",
       "       -1.32323329e-02, -1.00960329e-02, -1.79932808e-02, -3.36667948e-02,\n",
       "       -2.64927382e-02, -3.13699540e-02,  1.20405692e-02,  1.98360384e-02,\n",
       "       -4.19889885e-03,  3.61577111e-03, -7.21909003e-03, -1.03014722e-02,\n",
       "       -1.73135932e-02, -3.34399307e-02, -3.82188746e-02,  9.48502583e-03,\n",
       "        2.06835954e-02, -3.66460953e-04, -3.97540440e-04,  3.03048920e-03,\n",
       "       -2.64723149e-03, -2.07924751e-02, -2.13138573e-02, -3.13788730e-02,\n",
       "        2.16605806e-02,  2.62024559e-03,  8.25333738e-04, -7.44630727e-03,\n",
       "       -7.56583070e-03, -1.42354533e-02, -3.19668221e-02, -3.43466879e-02,\n",
       "       -3.46759620e-02,  1.53939822e-02,  6.56050311e-03, -1.01928504e-03,\n",
       "        5.47005280e-03,  5.01392126e-03, -1.35879282e-02, -2.00741839e-02,\n",
       "       -5.17581899e-02, -5.19400063e-02,  7.06191132e-03, -4.09378761e-03,\n",
       "        7.29701989e-03, -4.62638507e-03, -2.45830154e-02, -4.28668367e-02,\n",
       "       -2.61341251e-02, -3.55372081e-02, -4.28518770e-02,  1.25910942e-02,\n",
       "       -2.81171188e-03,  8.97873479e-03, -3.88271112e-03, -8.69094379e-03,\n",
       "       -3.86420137e-02, -3.57671953e-02, -3.95833283e-02, -3.87761403e-02,\n",
       "        1.93879013e-02, -1.03901056e-02, -2.83600054e-02, -2.05335306e-02,\n",
       "       -3.38321749e-02, -4.33159085e-02, -3.65286470e-02, -4.36857215e-02,\n",
       "       -4.42968253e-02,  9.92824872e-03, -3.06878515e-03, -2.23243805e-03,\n",
       "       -2.10244497e-02, -4.03354196e-02, -6.02627244e-02, -3.35198722e-02,\n",
       "       -4.85649986e-02, -3.81646908e-02])"
      ]
     },
     "execution_count": 17,
     "metadata": {},
     "output_type": "execute_result"
    }
   ],
   "source": [
    "res_2.resid"
   ]
  },
  {
   "cell_type": "code",
   "execution_count": 388,
   "metadata": {},
   "outputs": [],
   "source": [
    "df = pd.DataFrame([res.params], columns = [\"intercept\", \"coef_contact_reduction\", \"coef_contact_reduction**2\"])"
   ]
  },
  {
   "cell_type": "code",
   "execution_count": 389,
   "metadata": {},
   "outputs": [],
   "source": [
    "df.to_excel(\"Data/Reference/OLS_coefficients.xlsx\")"
   ]
  },
  {
   "cell_type": "code",
   "execution_count": 370,
   "metadata": {},
   "outputs": [],
   "source": [
    "a = np.ones(50)\n",
    "b = np.linspace(0, 0.8)\n",
    "c = b**2\n",
    "design = np.array(list(zip(a,b,c)))"
   ]
  },
  {
   "cell_type": "code",
   "execution_count": 374,
   "metadata": {},
   "outputs": [
    {
     "data": {
      "text/plain": [
       "[<matplotlib.lines.Line2D at 0x1e60349dbc8>]"
      ]
     },
     "execution_count": 374,
     "metadata": {},
     "output_type": "execute_result"
    },
    {
     "data": {
      "image/png": "[encoded data removed]",
      "text/plain": [
       "<Figure size 432x288 with 1 Axes>"
      ]
     },
     "metadata": {},
     "output_type": "display_data"
    }
   ],
   "source": [
    "x = np.linspace(0, 0.8)\n",
    "fig, ax = plt.subplots()\n",
    "ax.plot(x, predict.predicted_mean)"
   ]
  },
  {
   "cell_type": "code",
   "execution_count": 375,
   "metadata": {},
   "outputs": [],
   "source": [
    "lower = predict.conf_int(0.5)[:, 0]\n",
    "upper = predict.conf_int(0.5)[:, 1]"
   ]
  },
  {
   "cell_type": "code",
   "execution_count": 376,
   "metadata": {},
   "outputs": [
    {
     "data": {
      "image/png": "[encoded data removed]",
      "text/plain": [
       "<Figure size 432x288 with 1 Axes>"
      ]
     },
     "metadata": {},
     "output_type": "display_data"
    }
   ],
   "source": [
    "x = np.linspace(0, 0.8)\n",
    "fig, ax = plt.subplots()\n",
    "#ax.plot(x, predict.predicted_mean)\n",
    "ax.fill_between(x, lower, upper, color='b', alpha=.5)\n",
    "plt.show()"
   ]
  },
  {
   "cell_type": "code",
   "execution_count": null,
   "metadata": {},
   "outputs": [],
   "source": []
  }
 ],
 "metadata": {
  "kernelspec": {
   "display_name": "Python 3",
   "language": "python",
   "name": "python3"
  },
  "language_info": {
   "codemirror_mode": {
    "name": "ipython",
    "version": 3
   },
   "file_extension": ".py",
   "mimetype": "text/x-python",
   "name": "python",
   "nbconvert_exporter": "python",
   "pygments_lexer": "ipython3",
   "version": "3.7.6"
  }
 },
 "nbformat": 4,
 "nbformat_minor": 4
}
