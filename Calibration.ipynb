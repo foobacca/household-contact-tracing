{
 "cells": [
  {
   "cell_type": "markdown",
   "metadata": {},
   "source": [
    "# Model Calibration"
   ]
  },
  {
   "cell_type": "code",
   "execution_count": 3,
   "metadata": {},
   "outputs": [],
   "source": [
    "import household_contact_tracing as model\n",
    "import numpy as np\n",
    "import seaborn as sns\n",
    "import pandas as pd\n",
    "import scipy.stats as ss"
   ]
  },
  {
   "cell_type": "markdown",
   "metadata": {},
   "source": [
    "The model calibration class inherits from the base model class, so you are using the exact same code/distributions. The calibration estimates the $R_0$ of the model using the Lorenzo's household R_0 paper. The local and global infections are simulated, hence there is uncertainty in the output.\n",
    "\n",
    "In order to tune the models, we estimate the R_0 over a variety of inputs, and fits a quick linear regression to the outputs."
   ]
  },
  {
   "cell_type": "markdown",
   "metadata": {},
   "source": [
    "Note: The calculation can produce some crazy values if the inputs aren't realistic, this is a minor issue for now."
   ]
  },
  {
   "cell_type": "code",
   "execution_count": 4,
   "metadata": {},
   "outputs": [
    {
     "data": {
      "text/plain": [
       "3.181416935692778"
      ]
     },
     "execution_count": 4,
     "metadata": {},
     "output_type": "execute_result"
    }
   ],
   "source": [
    "model_calibration = model.model_calibration(haz_rate_scale = 0.795,\n",
    "                                            contact_tracing_success_prob = 2/3,\n",
    "                                            prob_of_successful_contact_trace_today = 1/3,\n",
    "                                            overdispersion = 0.36,\n",
    "                                            infection_reporting_prob = 0.2,\n",
    "                                            reporting_delay_par = 1/4.8,\n",
    "                                            contact_trace = False,\n",
    "                                            reduce_contacts_by = 0)\n",
    "model_calibration.calculate_R0()"
   ]
  },
  {
   "cell_type": "code",
   "execution_count": 5,
   "metadata": {},
   "outputs": [
    {
     "name": "stdout",
     "output_type": "stream",
     "text": [
      "x values : 0.81   repeat: 99\r"
     ]
    }
   ],
   "source": [
    "x_vals = np.linspace(0.79, 0.81, 5)\n",
    "repetitions = 10\n",
    "hazard_rate_scale = []\n",
    "R0_estimate = []\n",
    "for x in x_vals:\n",
    "    model_calibration = model.model_calibration(haz_rate_scale = x,\n",
    "                                                contact_tracing_success_prob = 2/3,\n",
    "                                                prob_of_successful_contact_trace_today = 1/3,\n",
    "                                                overdispersion = 0.36,\n",
    "                                                infection_reporting_prob = 0.7,\n",
    "                                                reporting_delay_par = 1/4.8,\n",
    "                                                contact_trace = True,\n",
    "                                                reduce_contacts_by = 0)\n",
    "    for repeat in range(repetitions):\n",
    "        print(f\"x values : {x}   repeat: {repeat}\", end = \"\\r\")\n",
    "        hazard_rate_scale.append(x)\n",
    "        R0_estimate.append(model_calibration.calculate_R0())"
   ]
  },
  {
   "cell_type": "code",
   "execution_count": 6,
   "metadata": {},
   "outputs": [],
   "source": [
    "data = pd.DataFrame({\"hazard_rate_scale\": hazard_rate_scale,\n",
    "                     \"R0_estimate\": R0_estimate})"
   ]
  },
  {
   "cell_type": "code",
   "execution_count": 7,
   "metadata": {},
   "outputs": [
    {
     "data": {
      "image/png": "[encoded data removed]",
      "text/plain": [
       "<Figure size 360x360 with 1 Axes>"
      ]
     },
     "metadata": {
      "needs_background": "light"
     },
     "output_type": "display_data"
    }
   ],
   "source": [
    "plot = sns.lmplot(\"hazard_rate_scale\", \"R0_estimate\", data)"
   ]
  }
 ],
 "metadata": {
  "kernelspec": {
   "display_name": "Python 3",
   "language": "python",
   "name": "python3"
  },
  "language_info": {
   "codemirror_mode": {
    "name": "ipython",
    "version": 3
   },
   "file_extension": ".py",
   "mimetype": "text/x-python",
   "name": "python",
   "nbconvert_exporter": "python",
   "pygments_lexer": "ipython3",
   "version": "3.7.4"
  }
 },
 "nbformat": 4,
 "nbformat_minor": 4
}
