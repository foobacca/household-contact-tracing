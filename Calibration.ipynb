{
 "cells": [
  {
   "cell_type": "markdown",
   "metadata": {},
   "source": [
    "# Model Calibration"
   ]
  },
  {
   "cell_type": "code",
   "execution_count": 1,
   "metadata": {},
   "outputs": [],
   "source": [
    "import household_contact_tracing as hct\n",
    "import matplotlib.pyplot as plt\n",
    "import numpy as np\n",
    "import scipy.stats as ss\n",
    "import seaborn as sns\n",
    "import pandas as pd\n",
    "import scipy.stats as ss\n",
    "from patsy import dmatrices\n",
    "import statsmodels.api as sma"
   ]
  },
  {
   "cell_type": "markdown",
   "metadata": {},
   "source": [
    "The model calibration class inherits from the base model class, so you are using the exact same code/distributions. The calibration estimates the $R_0$ of the model using the Lorenzo's household R_0 paper. The local and global infections are simulated, hence there is uncertainty in the output.\n",
    "\n",
    "In order to tune the models, we estimate the R_0 over a variety of inputs, and fits a quick linear regression to the outputs."
   ]
  },
  {
   "cell_type": "markdown",
   "metadata": {},
   "source": [
    "Note: The calculation can produce some crazy values if the inputs aren't realistic, this is a minor issue for now."
   ]
  },
  {
   "cell_type": "markdown",
   "metadata": {},
   "source": [
    "## Calibrating the household secondary attack rate"
   ]
  },
  {
   "cell_type": "code",
   "execution_count": 2,
   "metadata": {},
   "outputs": [],
   "source": [
    "model_calibrator = hct.model_calibration(haz_rate_scale = 0.795,\n",
    "                                            contact_tracing_success_prob = 2/3,\n",
    "                                            overdispersion = 0.36,\n",
    "                                            infection_reporting_prob = 0.2,\n",
    "                                            contact_trace_delay_par = 3,\n",
    "                                            contact_trace = False,\n",
    "                                            reduce_contacts_by = 0,\n",
    "                                            starting_infections = 1000)"
   ]
  },
  {
   "cell_type": "code",
   "execution_count": 3,
   "metadata": {},
   "outputs": [
    {
     "name": "stdout",
     "output_type": "stream",
     "text": [
      "Wall time: 5.62 s\n"
     ]
    },
    {
     "data": {
      "text/plain": [
       "0.22557122022362663"
      ]
     },
     "execution_count": 3,
     "metadata": {},
     "output_type": "execute_result"
    }
   ],
   "source": [
    "%%time\n",
    "model_calibrator.estimate_secondary_attack_rate()"
   ]
  },
  {
   "cell_type": "code",
   "execution_count": 8,
   "metadata": {},
   "outputs": [],
   "source": [
    "secondary_attack_rates = []\n",
    "for x in np.linspace(0.7, 0.9):\n",
    "    model_calibrator = hct.model_calibration(haz_rate_scale = x,\n",
    "                                            contact_tracing_success_prob = 2/3,\n",
    "                                            overdispersion = 0.36,\n",
    "                                            infection_reporting_prob = 0.2,\n",
    "                                            contact_trace_delay_par = 3,\n",
    "                                            contact_trace = False,\n",
    "                                            reduce_contacts_by = 0,\n",
    "                                            starting_infections = 1000)\n",
    "    secondary_attack_rates.append(model_calibrator.estimate_secondary_attack_rate())\n",
    "    \n",
    "data = pd.DataFrame({\"household_hazard_rate_scale\": np.linspace(0.7, 0.9),\n",
    "                     \"secondary_attack_rate\": secondary_attack_rates})"
   ]
  },
  {
   "cell_type": "code",
   "execution_count": 13,
   "metadata": {},
   "outputs": [
    {
     "data": {
      "text/plain": [
       "<seaborn.axisgrid.FacetGrid at 0x204511810c8>"
      ]
     },
     "execution_count": 13,
     "metadata": {},
     "output_type": "execute_result"
    },
    {
     "data": {
      "image/png": "[encoded data removed]",
      "text/plain": [
       "<Figure size 360x360 with 1 Axes>"
      ]
     },
     "metadata": {
      "needs_background": "light"
     },
     "output_type": "display_data"
    }
   ],
   "source": [
    "sns.lmplot(\"household_hazard_rate_scale\", \"secondary_attack_rate\", data = data)"
   ]
  },
  {
   "cell_type": "code",
   "execution_count": 14,
   "metadata": {},
   "outputs": [
    {
     "name": "stdout",
     "output_type": "stream",
     "text": [
      "                              OLS Regression Results                             \n",
      "=================================================================================\n",
      "Dep. Variable:     secondary_attack_rate   R-squared:                       0.971\n",
      "Model:                               OLS   Adj. R-squared:                  0.970\n",
      "Method:                    Least Squares   F-statistic:                     1609.\n",
      "Date:                   Sat, 02 May 2020   Prob (F-statistic):           1.42e-38\n",
      "Time:                           15:45:00   Log-Likelihood:                 140.98\n",
      "No. Observations:                     50   AIC:                            -278.0\n",
      "Df Residuals:                         48   BIC:                            -274.1\n",
      "Df Model:                              1                                         \n",
      "Covariance Type:               nonrobust                                         \n",
      "===============================================================================================\n",
      "                                  coef    std err          t      P>|t|      [0.025      0.975]\n",
      "-----------------------------------------------------------------------------------------------\n",
      "Intercept                       1.3713      0.028     48.351      0.000       1.314       1.428\n",
      "household_hazard_rate_scale    -1.4182      0.035    -40.113      0.000      -1.489      -1.347\n",
      "==============================================================================\n",
      "Omnibus:                        2.588   Durbin-Watson:                   1.596\n",
      "Prob(Omnibus):                  0.274   Jarque-Bera (JB):                1.812\n",
      "Skew:                           0.451   Prob(JB):                        0.404\n",
      "Kurtosis:                       3.236   Cond. No.                         27.9\n",
      "==============================================================================\n",
      "\n",
      "Warnings:\n",
      "[1] Standard Errors assume that the covariance matrix of the errors is correctly specified.\n"
     ]
    }
   ],
   "source": [
    "y, X = dmatrices('secondary_attack_rate ~ household_hazard_rate_scale', \n",
    "                 data = data)\n",
    "model_1 = sma.OLS(y, X)\n",
    "res = model_1.fit()\n",
    "print(res.summary())"
   ]
  },
  {
   "cell_type": "code",
   "execution_count": 15,
   "metadata": {},
   "outputs": [],
   "source": [
    "def solve_for_x(y, res):\n",
    "    c = res.params[0]\n",
    "    m = res.params[1]\n",
    "    \n",
    "    return (y - c) / m"
   ]
  },
  {
   "cell_type": "markdown",
   "metadata": {},
   "source": [
    "A secondary household attack rate of 35% requires the hazard rate scaling to be around 0.722"
   ]
  },
  {
   "cell_type": "code",
   "execution_count": 16,
   "metadata": {},
   "outputs": [
    {
     "data": {
      "text/plain": [
       "0.7201266849708313"
      ]
     },
     "execution_count": 16,
     "metadata": {},
     "output_type": "execute_result"
    }
   ],
   "source": [
    "solve_for_x(0.35, res)"
   ]
  },
  {
   "cell_type": "markdown",
   "metadata": {},
   "source": [
    "### We now have the hazard rate that leads to correctly assumed within household dynamics"
   ]
  },
  {
   "cell_type": "markdown",
   "metadata": {},
   "source": [
    "In practice we use the script \"tune_R0.py\" to estimate the $R_0$ value for a range of different inputs, however we demonstrate this below."
   ]
  },
  {
   "cell_type": "code",
   "execution_count": 22,
   "metadata": {},
   "outputs": [],
   "source": [
    "household_hazard_rate = solve_for_x(0.35, res)"
   ]
  },
  {
   "cell_type": "code",
   "execution_count": 23,
   "metadata": {},
   "outputs": [],
   "source": [
    "model_calibrator = hct.model_calibration(haz_rate_scale = 0.81,\n",
    "                                         household_haz_rate_scale = household_hazard_rate,\n",
    "                                         contact_tracing_success_prob = 0,\n",
    "                                         overdispersion = 0.36,\n",
    "                                         infection_reporting_prob = 0.2,\n",
    "                                         contact_trace_delay_par = 3,\n",
    "                                         contact_trace = False,\n",
    "                                         reduce_contacts_by = 0)"
   ]
  },
  {
   "cell_type": "code",
   "execution_count": null,
   "metadata": {},
   "outputs": [],
   "source": [
    "model_calibration.calculate_R0()"
   ]
  },
  {
   "cell_type": "code",
   "execution_count": 80,
   "metadata": {},
   "outputs": [
    {
     "name": "stdout",
     "output_type": "stream",
     "text": [
      "x values : 0.81   repeat: 00\r"
     ]
    }
   ],
   "source": [
    "x_vals = np.linspace(0.79, 0.81, 5)\n",
    "repetitions = 1\n",
    "hazard_rate_scale = []\n",
    "R0_estimate = []\n",
    "for x in x_vals:\n",
    "    model_calibration = model.model_calibration(haz_rate_scale = x,\n",
    "                                                household_haz_rate_scale = household_hazard_rate,\n",
    "                                                contact_tracing_success_prob = 2/3,\n",
    "                                                contact_trace_delay_par = 1/3,\n",
    "                                                overdispersion = 0.36,\n",
    "                                                infection_reporting_prob = 0.7,\n",
    "                                                contact_trace = True,\n",
    "                                                reduce_contacts_by = 0)\n",
    "    for repeat in range(repetitions):\n",
    "        print(f\"x values : {x}   repeat: {repeat}\", end = \"\\r\")\n",
    "        hazard_rate_scale.append(x)\n",
    "        R0_estimate.append(model_calibration.calculate_R0())"
   ]
  },
  {
   "cell_type": "code",
   "execution_count": 26,
   "metadata": {},
   "outputs": [],
   "source": [
    "data = pd.read_excel(\"Data/calibration_R0_vals.xlsx\")"
   ]
  },
  {
   "cell_type": "code",
   "execution_count": 27,
   "metadata": {},
   "outputs": [
    {
     "data": {
      "image/png": "[encoded data removed]",
      "text/plain": [
       "<Figure size 360x360 with 1 Axes>"
      ]
     },
     "metadata": {
      "needs_background": "light"
     },
     "output_type": "display_data"
    }
   ],
   "source": [
    "plot = sns.lmplot(\"hazard_rate_scale\", \"R0_estimate\", data)"
   ]
  },
  {
   "cell_type": "markdown",
   "metadata": {},
   "source": [
    "## Distribution of secondary infections"
   ]
  },
  {
   "cell_type": "code",
   "execution_count": 29,
   "metadata": {},
   "outputs": [],
   "source": [
    "model_calibrator = hct.model_calibration(haz_rate_scale = 0.81,\n",
    "                                         contact_tracing_success_prob = 0,\n",
    "                                         household_haz_rate_scale = 0.72219,\n",
    "                                         overdispersion = 0.36,\n",
    "                                         infection_reporting_prob = 0.2,\n",
    "                                         contact_trace_delay_par = 3,\n",
    "                                         contact_trace = False,\n",
    "                                         reduce_contacts_by = 0,\n",
    "                                         starting_infections = 1000)\n",
    "\n",
    "out = model_calibrator.generate_secondary_infection_distribution()"
   ]
  },
  {
   "cell_type": "code",
   "execution_count": 31,
   "metadata": {},
   "outputs": [
    {
     "data": {
      "text/plain": [
       "Text(0.5, 1.0, 'Distribution of Infections Caused')"
      ]
     },
     "execution_count": 31,
     "metadata": {},
     "output_type": "execute_result"
    },
    {
     "data": {
      "image/png": "[encoded data removed]",
      "text/plain": [
       "<Figure size 432x288 with 1 Axes>"
      ]
     },
     "metadata": {
      "needs_background": "light"
     },
     "output_type": "display_data"
    }
   ],
   "source": [
    "sns.distplot(out, bins = range(15), kde = False)\n",
    "plt.title(\"Distribution of Infections Caused\")"
   ]
  },
  {
   "cell_type": "code",
   "execution_count": null,
   "metadata": {},
   "outputs": [],
   "source": []
  }
 ],
 "metadata": {
  "kernelspec": {
   "display_name": "Python 3",
   "language": "python",
   "name": "python3"
  },
  "language_info": {
   "codemirror_mode": {
    "name": "ipython",
    "version": 3
   },
   "file_extension": ".py",
   "mimetype": "text/x-python",
   "name": "python",
   "nbconvert_exporter": "python",
   "pygments_lexer": "ipython3",
   "version": "3.7.6"
  }
 },
 "nbformat": 4,
 "nbformat_minor": 4
}
