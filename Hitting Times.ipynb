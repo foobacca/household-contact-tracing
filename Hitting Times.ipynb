{
 "cells": [
  {
   "cell_type": "markdown",
   "metadata": {},
   "source": [
    "# Hitting Time Distributions"
   ]
  },
  {
   "cell_type": "code",
   "execution_count": 116,
   "metadata": {},
   "outputs": [
    {
     "name": "stderr",
     "output_type": "stream",
     "text": [
      "- |#                                                  | 0 Elapsed Time: 0:00:00\n"
     ]
    }
   ],
   "source": [
    "import matplotlib.pyplot as plt\n",
    "import numpy as np\n",
    "import numpy.random as npr\n",
    "import scipy.stats as ss\n",
    "import seaborn as sns\n",
    "import household_contact_tracing_dropbox as model\n",
    "import warnings\n",
    "from progressbar import ProgressBar\n",
    "pbar = ProgressBar()\n",
    "warnings.filterwarnings('ignore')\n",
    "sns.set()\n",
    "%matplotlib inline"
   ]
  },
  {
   "cell_type": "markdown",
   "metadata": {},
   "source": [
    "## Contacts under surveillance"
   ]
  },
  {
   "cell_type": "markdown",
   "metadata": {},
   "source": [
    "We condition on the event that the epidemic does not go extinct. The number of contacts that can be under surveillance is either 800 or 8000."
   ]
  },
  {
   "cell_type": "markdown",
   "metadata": {},
   "source": [
    "This is most relevent early in the outbreak, and we assume no social distancing"
   ]
  },
  {
   "cell_type": "code",
   "execution_count": 69,
   "metadata": {},
   "outputs": [],
   "source": [
    "simulation = model.household_sim_contact_tracing(proportion_of_within_house_contacts = 0.3372348,\n",
    "                                                haz_rate_scale = 0.805,\n",
    "                                                contact_tracing_success_prob = 2/3,\n",
    "                                                prob_of_successful_contact_trace_today = 1/2,\n",
    "                                                overdispersion = 0.36,\n",
    "                                                infection_reporting_prob = 0.8,\n",
    "                                                reporting_delay_par = 1/2,\n",
    "                                                contact_trace = True,\n",
    "                                                reduce_contacts_by = 0.0) # 0.1 means a person makes 10% less contacts"
   ]
  },
  {
   "cell_type": "code",
   "execution_count": 60,
   "metadata": {},
   "outputs": [
    {
     "name": "stdout",
     "output_type": "stream",
     "text": [
      "Wall time: 34min 39sd: 6573, progress: 5000/5000, time outs: 178\n"
     ]
    }
   ],
   "source": [
    "%%time\n",
    "\n",
    "observations_required = 5000\n",
    "\n",
    "simulations_performed = 0\n",
    "\n",
    "# Counting the number of times each capacity was hit\n",
    "times_hit_800 = 0\n",
    "times_hit_8000 = 0\n",
    "timed_out_count = 0\n",
    "\n",
    "# Empty lists to store the hitting times in\n",
    "hitting_times_800 = []\n",
    "hitting_times_8000 = []\n",
    "\n",
    "# We condition on the event that we see the 8000 capacity hit\n",
    "while times_hit_8000 != observations_required:\n",
    "    \n",
    "    simulations_performed += 1\n",
    "    \n",
    "    simulation.run_simulation_hitting_times(time_out = 150)\n",
    "    \n",
    "    if simulation.hit_800 == True:\n",
    "        times_hit_800 += 1\n",
    "        \n",
    "    if simulation.hit_8000 == True:\n",
    "        times_hit_8000 += 1\n",
    "        \n",
    "        # We condition on the event the simulation reached 8000 capacity\n",
    "        hitting_times_800.append(simulation.time_800)\n",
    "        hitting_times_8000.append(simulation.time_8000)\n",
    "        \n",
    "    if simulation.timed_out == True:\n",
    "        timed_out_count += 1\n",
    "        \n",
    "    print(f\"Simulations performed: {simulations_performed}, progress: {times_hit_8000}/{observations_required}, time outs: {timed_out_count}\", end = \"\\r\")"
   ]
  },
  {
   "cell_type": "code",
   "execution_count": 110,
   "metadata": {},
   "outputs": [
    {
     "data": {
      "image/png": "[encoded data removed]",
      "text/plain": [
       "<Figure size 432x288 with 1 Axes>"
      ]
     },
     "metadata": {
      "needs_background": "light"
     },
     "output_type": "display_data"
    }
   ],
   "source": [
    "plot_800 = sns.distplot(hitting_times_800,\n",
    "                        #fit = ss.gumbel_r,\n",
    "                        bins = range(70),\n",
    "                        kde = True\n",
    "                       )\n",
    "plot_8000 = sns.distplot(hitting_times_8000,\n",
    "                         #fit = ss.gumbel_r,\n",
    "                         bins = range(70),\n",
    "                         kde = True\n",
    "                        )\n",
    "plt.title(\"Hitting time distributions\")\n",
    "plt.savefig(\"HittingTimes.png\")"
   ]
  },
  {
   "cell_type": "code",
   "execution_count": 114,
   "metadata": {},
   "outputs": [
    {
     "data": {
      "image/png": "[encoded data removed]",
      "text/plain": [
       "<Figure size 432x288 with 1 Axes>"
      ]
     },
     "metadata": {
      "needs_background": "light"
     },
     "output_type": "display_data"
    }
   ],
   "source": [
    "sns.distplot(np.array(hitting_times_8000) - np.array(hitting_times_800), kde = False, hist = True, bins = range(5,20))\n",
    "plt.title(\"Delay from hiting capacity = 800, to hitting capacity = 8000\")\n",
    "plt.savefig(\"Hitting Time Delays.png\")"
   ]
  },
  {
   "cell_type": "code",
   "execution_count": 63,
   "metadata": {},
   "outputs": [
    {
     "data": {
      "text/plain": [
       "76.06876616461281"
      ]
     },
     "execution_count": 63,
     "metadata": {},
     "output_type": "execute_result"
    }
   ],
   "source": [
    "prob_hitting_800 = times_hit_800/simulations_performed*100\n",
    "prob_hitting_800"
   ]
  },
  {
   "cell_type": "code",
   "execution_count": 64,
   "metadata": {},
   "outputs": [
    {
     "data": {
      "text/plain": [
       "76.06876616461281"
      ]
     },
     "execution_count": 64,
     "metadata": {},
     "output_type": "execute_result"
    }
   ],
   "source": [
    "prob_hitting_8000 = times_hit_8000/simulations_performed*100\n",
    "prob_hitting_8000"
   ]
  },
  {
   "cell_type": "code",
   "execution_count": 65,
   "metadata": {},
   "outputs": [
    {
     "data": {
      "text/plain": [
       "178"
      ]
     },
     "execution_count": 65,
     "metadata": {},
     "output_type": "execute_result"
    }
   ],
   "source": [
    "timed_out_count"
   ]
  }
 ],
 "metadata": {
  "kernelspec": {
   "display_name": "Python 3",
   "language": "python",
   "name": "python3"
  },
  "language_info": {
   "codemirror_mode": {
    "name": "ipython",
    "version": 3
   },
   "file_extension": ".py",
   "mimetype": "text/x-python",
   "name": "python",
   "nbconvert_exporter": "python",
   "pygments_lexer": "ipython3",
   "version": "3.7.4"
  }
 },
 "nbformat": 4,
 "nbformat_minor": 4
}
